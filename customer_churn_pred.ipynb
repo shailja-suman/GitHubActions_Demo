{
 "cells": [
  {
   "cell_type": "markdown",
   "id": "0c0f0f2c",
   "metadata": {},
   "source": [
    "# E- commerce Customer Churn Analysis"
   ]
  },
  {
   "cell_type": "markdown",
   "id": "332a9a1a",
   "metadata": {},
   "source": [
    "#### Problem Statement\n",
    "\n",
    "To develop an e-commerce customer churn model using historical churn data taken from Kaggle. This is binary classification (churn/not churn) model by the help of 20 variables (mix of numeric and categorical). "
   ]
  },
  {
   "cell_type": "markdown",
   "id": "f90ba9ac",
   "metadata": {},
   "source": [
    "#### Proposed Business Impact:\n",
    "\n",
    "This model will help to understand churn drivers by help of variable importance / variable significance. Finding of this model can be used for strategic implementation to retain a customer proactively . "
   ]
  },
  {
   "cell_type": "raw",
   "id": "58d9ef8a",
   "metadata": {},
   "source": [
    "## Data dictionary\n",
    "CustomerID                          Unique customer ID\n",
    "Churn                               Churn Flag\n",
    "Tenure                              Tenure of customer in organization\n",
    "PreferredLoginDevice                Preferred login device of customer\n",
    "CityTier\t                        City tier\n",
    "WarehouseToHome\t                    Distance in between warehouse to home of customer\n",
    "PreferredPaymentMode                Preferred payment method of customer\n",
    "Gender\t                            Gender of customer\n",
    "HourSpendOnApp\t                    Number of hours spend on mobile application or website\n",
    "NumberOfDeviceRegistered            Total number of deceives is registered on particular customer\n",
    "PreferedOrderCat\t                Preferred order category of customer in last month\n",
    "SatisfactionScore\t                Satisfactory score of customer on service\n",
    "MaritalStatus\t                    Marital status of customer\n",
    "NumberOfAddress\t                    Total number of added added on particular customer\n",
    "Complain\t                        Any complaint has been raised in last month\n",
    "OrderAmountHikeFromlastYear     \tPercentage increases in order from last year\n",
    "CouponUsed\t                        Total number of coupon has been used in last month\n",
    "OrderCount\t                        Total number of orders has been places in last month\n",
    "DaySinceLastOrder\t                Day Since last order by customer\n",
    "CashbackAmount\t                    Average cashback in last month"
   ]
  },
  {
   "cell_type": "markdown",
   "id": "2271fc4a",
   "metadata": {},
   "source": [
    " Preprocessing:\n",
    " \n",
    "     • Duplicates Removal\n",
    "     • Missing Value Imputation\n",
    "     • Categorical variable encoding\n",
    "     • Scaling and Standardization\n",
    "     • Outliers Treatment\n",
    "     • Variable Transformation"
   ]
  },
  {
   "cell_type": "markdown",
   "id": "8adf2f3a",
   "metadata": {},
   "source": [
    "Model Building:\n",
    "                \n",
    "    •\tNaive Bayes\n",
    "    •\tK Neariest Nabiours\n",
    "    •\tLogistic Regression\n",
    "    •\tSupport Vector Machines\n",
    "    •\tLightGBM\n",
    "    •\tRandom Forest"
   ]
  },
  {
   "cell_type": "code",
   "execution_count": 1,
   "id": "8a0356ef",
   "metadata": {},
   "outputs": [
    {
     "name": "stderr",
     "output_type": "stream",
     "text": [
      "C:\\Users\\shasuman\\Anaconda3\\lib\\site-packages\\numpy\\_distributor_init.py:30: UserWarning: loaded more than 1 DLL from .libs:\n",
      "C:\\Users\\shasuman\\Anaconda3\\lib\\site-packages\\numpy\\.libs\\libopenblas.4SP5SUA7CBGXUEOC35YP2ASOICYYEQZZ.gfortran-win_amd64.dll\n",
      "C:\\Users\\shasuman\\Anaconda3\\lib\\site-packages\\numpy\\.libs\\libopenblas.WCDJNK7YVMPZQ2ME2ZZHJJRJ3JIKNDB7.gfortran-win_amd64.dll\n",
      "  warnings.warn(\"loaded more than 1 DLL from .libs:\"\n"
     ]
    }
   ],
   "source": [
    "# Importing libraries\n",
    "import pandas as pd\n",
    "import numpy as np\n",
    "import matplotlib.pyplot as plt\n",
    "%matplotlib inline\n",
    "import seaborn as sns\n",
    "\n",
    "from sklearn.model_selection import train_test_split\n",
    "from sklearn.model_selection import RepeatedStratifiedKFold, RandomizedSearchCV, GridSearchCV\n",
    "from xgboost import XGBRegressor\n",
    "from sklearn.experimental import enable_iterative_imputer\n",
    "from sklearn.impute import IterativeImputer\n",
    "from sklearn.ensemble import RandomForestRegressor, RandomForestClassifier\n",
    "from sklearn.preprocessing import LabelEncoder\n",
    "from sklearn.metrics import classification_report\n",
    "import category_encoders as ce\n",
    "from sklearn.linear_model import LogisticRegression\n",
    "from sklearn.naive_bayes import GaussianNB\n",
    "from sklearn.neighbors import KNeighborsClassifier\n",
    "from sklearn.svm import SVC\n",
    "from sklearn.preprocessing import StandardScaler\n",
    "from lightgbm import LGBMClassifier\n",
    "from sklearn.decomposition import PCA\n",
    "from statsmodels.stats.outliers_influence import variance_inflation_factor\n",
    "import gc\n",
    "from sklearn.model_selection import GridSearchCV\n",
    "\n",
    "\n",
    "from scipy.special import boxcox1p\n",
    "import matplotlib.pyplot as plt\n",
    "from sklearn.metrics import roc_curve \n",
    "from sklearn.metrics import roc_auc_score\n",
    "from sklearn.metrics import precision_recall_curve\n",
    "#from sklearn.metrics import auc\n",
    "#from sklearn.metrics import plot_confusion_metrics\n",
    "\n",
    "import warnings\n",
    "warnings.filterwarnings('ignore')"
   ]
  },
  {
   "cell_type": "code",
   "execution_count": 2,
   "id": "734919d3",
   "metadata": {},
   "outputs": [],
   "source": [
    "import numpy as np"
   ]
  },
  {
   "cell_type": "code",
   "execution_count": 3,
   "id": "53e0aaab",
   "metadata": {},
   "outputs": [
    {
     "data": {
      "text/plain": [
       "'1.19.5'"
      ]
     },
     "execution_count": 3,
     "metadata": {},
     "output_type": "execute_result"
    }
   ],
   "source": [
    "np.__version__"
   ]
  },
  {
   "cell_type": "code",
   "execution_count": 12,
   "id": "2039c07a",
   "metadata": {},
   "outputs": [],
   "source": [
    "# reading data set\n",
    "df = pd.read_excel(\"E Commerce Dataset.xlsx\", sheet_name = \"E Comm\")"
   ]
  },
  {
   "cell_type": "code",
   "execution_count": 13,
   "id": "0e22b4d4",
   "metadata": {},
   "outputs": [
    {
     "data": {
      "text/plain": [
       "(5630, 20)"
      ]
     },
     "execution_count": 13,
     "metadata": {},
     "output_type": "execute_result"
    }
   ],
   "source": [
    "df.shape"
   ]
  },
  {
   "cell_type": "code",
   "execution_count": 14,
   "id": "1d429361",
   "metadata": {},
   "outputs": [
    {
     "data": {
      "text/html": [
       "<div>\n",
       "<style scoped>\n",
       "    .dataframe tbody tr th:only-of-type {\n",
       "        vertical-align: middle;\n",
       "    }\n",
       "\n",
       "    .dataframe tbody tr th {\n",
       "        vertical-align: top;\n",
       "    }\n",
       "\n",
       "    .dataframe thead th {\n",
       "        text-align: right;\n",
       "    }\n",
       "</style>\n",
       "<table border=\"1\" class=\"dataframe\">\n",
       "  <thead>\n",
       "    <tr style=\"text-align: right;\">\n",
       "      <th></th>\n",
       "      <th>CustomerID</th>\n",
       "      <th>Churn</th>\n",
       "      <th>Tenure</th>\n",
       "      <th>PreferredLoginDevice</th>\n",
       "      <th>CityTier</th>\n",
       "      <th>WarehouseToHome</th>\n",
       "      <th>PreferredPaymentMode</th>\n",
       "      <th>Gender</th>\n",
       "      <th>HourSpendOnApp</th>\n",
       "      <th>NumberOfDeviceRegistered</th>\n",
       "      <th>PreferedOrderCat</th>\n",
       "      <th>SatisfactionScore</th>\n",
       "      <th>MaritalStatus</th>\n",
       "      <th>NumberOfAddress</th>\n",
       "      <th>Complain</th>\n",
       "      <th>OrderAmountHikeFromlastYear</th>\n",
       "      <th>CouponUsed</th>\n",
       "      <th>OrderCount</th>\n",
       "      <th>DaySinceLastOrder</th>\n",
       "      <th>CashbackAmount</th>\n",
       "    </tr>\n",
       "  </thead>\n",
       "  <tbody>\n",
       "    <tr>\n",
       "      <th>0</th>\n",
       "      <td>50001</td>\n",
       "      <td>1</td>\n",
       "      <td>4.0</td>\n",
       "      <td>Mobile Phone</td>\n",
       "      <td>3</td>\n",
       "      <td>6.0</td>\n",
       "      <td>Debit Card</td>\n",
       "      <td>Female</td>\n",
       "      <td>3.0</td>\n",
       "      <td>3</td>\n",
       "      <td>Laptop &amp; Accessory</td>\n",
       "      <td>2</td>\n",
       "      <td>Single</td>\n",
       "      <td>9</td>\n",
       "      <td>1</td>\n",
       "      <td>11.0</td>\n",
       "      <td>1.0</td>\n",
       "      <td>1.0</td>\n",
       "      <td>5.0</td>\n",
       "      <td>159.93</td>\n",
       "    </tr>\n",
       "    <tr>\n",
       "      <th>1</th>\n",
       "      <td>50002</td>\n",
       "      <td>1</td>\n",
       "      <td>NaN</td>\n",
       "      <td>Phone</td>\n",
       "      <td>1</td>\n",
       "      <td>8.0</td>\n",
       "      <td>UPI</td>\n",
       "      <td>Male</td>\n",
       "      <td>3.0</td>\n",
       "      <td>4</td>\n",
       "      <td>Mobile</td>\n",
       "      <td>3</td>\n",
       "      <td>Single</td>\n",
       "      <td>7</td>\n",
       "      <td>1</td>\n",
       "      <td>15.0</td>\n",
       "      <td>0.0</td>\n",
       "      <td>1.0</td>\n",
       "      <td>0.0</td>\n",
       "      <td>120.90</td>\n",
       "    </tr>\n",
       "    <tr>\n",
       "      <th>2</th>\n",
       "      <td>50003</td>\n",
       "      <td>1</td>\n",
       "      <td>NaN</td>\n",
       "      <td>Phone</td>\n",
       "      <td>1</td>\n",
       "      <td>30.0</td>\n",
       "      <td>Debit Card</td>\n",
       "      <td>Male</td>\n",
       "      <td>2.0</td>\n",
       "      <td>4</td>\n",
       "      <td>Mobile</td>\n",
       "      <td>3</td>\n",
       "      <td>Single</td>\n",
       "      <td>6</td>\n",
       "      <td>1</td>\n",
       "      <td>14.0</td>\n",
       "      <td>0.0</td>\n",
       "      <td>1.0</td>\n",
       "      <td>3.0</td>\n",
       "      <td>120.28</td>\n",
       "    </tr>\n",
       "    <tr>\n",
       "      <th>3</th>\n",
       "      <td>50004</td>\n",
       "      <td>1</td>\n",
       "      <td>0.0</td>\n",
       "      <td>Phone</td>\n",
       "      <td>3</td>\n",
       "      <td>15.0</td>\n",
       "      <td>Debit Card</td>\n",
       "      <td>Male</td>\n",
       "      <td>2.0</td>\n",
       "      <td>4</td>\n",
       "      <td>Laptop &amp; Accessory</td>\n",
       "      <td>5</td>\n",
       "      <td>Single</td>\n",
       "      <td>8</td>\n",
       "      <td>0</td>\n",
       "      <td>23.0</td>\n",
       "      <td>0.0</td>\n",
       "      <td>1.0</td>\n",
       "      <td>3.0</td>\n",
       "      <td>134.07</td>\n",
       "    </tr>\n",
       "    <tr>\n",
       "      <th>4</th>\n",
       "      <td>50005</td>\n",
       "      <td>1</td>\n",
       "      <td>0.0</td>\n",
       "      <td>Phone</td>\n",
       "      <td>1</td>\n",
       "      <td>12.0</td>\n",
       "      <td>CC</td>\n",
       "      <td>Male</td>\n",
       "      <td>NaN</td>\n",
       "      <td>3</td>\n",
       "      <td>Mobile</td>\n",
       "      <td>5</td>\n",
       "      <td>Single</td>\n",
       "      <td>3</td>\n",
       "      <td>0</td>\n",
       "      <td>11.0</td>\n",
       "      <td>1.0</td>\n",
       "      <td>1.0</td>\n",
       "      <td>3.0</td>\n",
       "      <td>129.60</td>\n",
       "    </tr>\n",
       "  </tbody>\n",
       "</table>\n",
       "</div>"
      ],
      "text/plain": [
       "   CustomerID  Churn  Tenure PreferredLoginDevice  CityTier  WarehouseToHome  \\\n",
       "0       50001      1     4.0         Mobile Phone         3              6.0   \n",
       "1       50002      1     NaN                Phone         1              8.0   \n",
       "2       50003      1     NaN                Phone         1             30.0   \n",
       "3       50004      1     0.0                Phone         3             15.0   \n",
       "4       50005      1     0.0                Phone         1             12.0   \n",
       "\n",
       "  PreferredPaymentMode  Gender  HourSpendOnApp  NumberOfDeviceRegistered  \\\n",
       "0           Debit Card  Female             3.0                         3   \n",
       "1                  UPI    Male             3.0                         4   \n",
       "2           Debit Card    Male             2.0                         4   \n",
       "3           Debit Card    Male             2.0                         4   \n",
       "4                   CC    Male             NaN                         3   \n",
       "\n",
       "     PreferedOrderCat  SatisfactionScore MaritalStatus  NumberOfAddress  \\\n",
       "0  Laptop & Accessory                  2        Single                9   \n",
       "1              Mobile                  3        Single                7   \n",
       "2              Mobile                  3        Single                6   \n",
       "3  Laptop & Accessory                  5        Single                8   \n",
       "4              Mobile                  5        Single                3   \n",
       "\n",
       "   Complain  OrderAmountHikeFromlastYear  CouponUsed  OrderCount  \\\n",
       "0         1                         11.0         1.0         1.0   \n",
       "1         1                         15.0         0.0         1.0   \n",
       "2         1                         14.0         0.0         1.0   \n",
       "3         0                         23.0         0.0         1.0   \n",
       "4         0                         11.0         1.0         1.0   \n",
       "\n",
       "   DaySinceLastOrder  CashbackAmount  \n",
       "0                5.0          159.93  \n",
       "1                0.0          120.90  \n",
       "2                3.0          120.28  \n",
       "3                3.0          134.07  \n",
       "4                3.0          129.60  "
      ]
     },
     "execution_count": 14,
     "metadata": {},
     "output_type": "execute_result"
    }
   ],
   "source": [
    "df.head()"
   ]
  },
  {
   "cell_type": "code",
   "execution_count": 15,
   "id": "6e23b9fc",
   "metadata": {},
   "outputs": [],
   "source": [
    "df.drop('CustomerID',axis = 1, inplace= True)"
   ]
  },
  {
   "cell_type": "markdown",
   "id": "3c5b4cf0",
   "metadata": {},
   "source": [
    "## Preprocessing\n",
    "    - Duplicates Removal"
   ]
  },
  {
   "cell_type": "code",
   "execution_count": 28,
   "id": "8b6b33fc",
   "metadata": {},
   "outputs": [
    {
     "data": {
      "image/png": "[encoded data removed]",
      "text/plain": [
       "<Figure size 432x288 with 1 Axes>"
      ]
     },
     "metadata": {
      "needs_background": "light"
     },
     "output_type": "display_data"
    }
   ],
   "source": [
    "df['PreferredPaymentMode'].value_counts(normalize=True).plot(kind='barh');"
   ]
  },
  {
   "cell_type": "raw",
   "id": "933b548f",
   "metadata": {},
   "source": [
    "We will combine:\n",
    "Cash on Delivery and COD as COD\n",
    "CC and Credit Card as Credit Card"
   ]
  },
  {
   "cell_type": "code",
   "execution_count": 51,
   "id": "64bf0c27",
   "metadata": {},
   "outputs": [],
   "source": [
    "df['PreferredPaymentMode'] = df['PreferredPaymentMode'].replace('Cash on Delivery','COD')\n",
    "df['PreferredPaymentMode'] = df['PreferredPaymentMode'].replace('CC','Credit Card')"
   ]
  },
  {
   "cell_type": "code",
   "execution_count": 30,
   "id": "ed040baa",
   "metadata": {},
   "outputs": [
    {
     "data": {
      "image/png": "[encoded data removed]",
      "text/plain": [
       "<Figure size 432x288 with 1 Axes>"
      ]
     },
     "metadata": {
      "needs_background": "light"
     },
     "output_type": "display_data"
    }
   ],
   "source": [
    "df['PreferredPaymentMode'].value_counts(normalize=True).plot(kind='barh');"
   ]
  },
  {
   "cell_type": "markdown",
   "id": "5dbcd6d3",
   "metadata": {},
   "source": [
    "### PreferredLoginDevice\n",
    "        - Issue: Mobile Phone and Phone"
   ]
  },
  {
   "cell_type": "code",
   "execution_count": 33,
   "id": "b50f9dae",
   "metadata": {},
   "outputs": [
    {
     "data": {
      "text/plain": [
       "<AxesSubplot:xlabel='PreferredLoginDevice', ylabel='Count'>"
      ]
     },
     "execution_count": 33,
     "metadata": {},
     "output_type": "execute_result"
    },
    {
     "data": {
      "image/png": "[encoded data removed]",
      "text/plain": [
       "<Figure size 432x288 with 1 Axes>"
      ]
     },
     "metadata": {
      "needs_background": "light"
     },
     "output_type": "display_data"
    }
   ],
   "source": [
    "sns.histplot(binwidth=0.5, x='PreferredLoginDevice', hue='Churn', data=df, stat='count', multiple='stack')"
   ]
  },
  {
   "cell_type": "code",
   "execution_count": 216,
   "id": "87b8aa59",
   "metadata": {},
   "outputs": [
    {
     "data": {
      "text/plain": [
       "<AxesSubplot:xlabel='PreferredLoginDevice', ylabel='Count'>"
      ]
     },
     "execution_count": 216,
     "metadata": {},
     "output_type": "execute_result"
    },
    {
     "data": {
      "image/png": "[encoded data removed]",
      "text/plain": [
       "<Figure size 432x288 with 1 Axes>"
      ]
     },
     "metadata": {
      "needs_background": "light"
     },
     "output_type": "display_data"
    }
   ],
   "source": [
    "sns.histplot(binwidth=0.8, x='PreferredLoginDevice', hue='PreferedOrderCat', data=df, stat='count', multiple='stack')"
   ]
  },
  {
   "cell_type": "code",
   "execution_count": 217,
   "id": "fba29a51",
   "metadata": {},
   "outputs": [
    {
     "data": {
      "text/html": [
       "<div>\n",
       "<style scoped>\n",
       "    .dataframe tbody tr th:only-of-type {\n",
       "        vertical-align: middle;\n",
       "    }\n",
       "\n",
       "    .dataframe tbody tr th {\n",
       "        vertical-align: top;\n",
       "    }\n",
       "\n",
       "    .dataframe thead th {\n",
       "        text-align: right;\n",
       "    }\n",
       "</style>\n",
       "<table border=\"1\" class=\"dataframe\">\n",
       "  <thead>\n",
       "    <tr style=\"text-align: right;\">\n",
       "      <th></th>\n",
       "      <th>Churn</th>\n",
       "      <th>Tenure</th>\n",
       "      <th>PreferredLoginDevice</th>\n",
       "      <th>CityTier</th>\n",
       "      <th>WarehouseToHome</th>\n",
       "      <th>PreferredPaymentMode</th>\n",
       "      <th>Gender</th>\n",
       "      <th>HourSpendOnApp</th>\n",
       "      <th>NumberOfDeviceRegistered</th>\n",
       "      <th>PreferedOrderCat</th>\n",
       "      <th>SatisfactionScore</th>\n",
       "      <th>MaritalStatus</th>\n",
       "      <th>NumberOfAddress</th>\n",
       "      <th>Complain</th>\n",
       "      <th>OrderAmountHikeFromlastYear</th>\n",
       "      <th>CouponUsed</th>\n",
       "      <th>OrderCount</th>\n",
       "      <th>DaySinceLastOrder</th>\n",
       "      <th>CashbackAmount</th>\n",
       "    </tr>\n",
       "  </thead>\n",
       "  <tbody>\n",
       "    <tr>\n",
       "      <th>1045</th>\n",
       "      <td>0</td>\n",
       "      <td>0.0</td>\n",
       "      <td>Computer</td>\n",
       "      <td>1</td>\n",
       "      <td>NaN</td>\n",
       "      <td>Credit Card</td>\n",
       "      <td>Male</td>\n",
       "      <td>2.0</td>\n",
       "      <td>3</td>\n",
       "      <td>Mobile</td>\n",
       "      <td>1</td>\n",
       "      <td>Single</td>\n",
       "      <td>3</td>\n",
       "      <td>0</td>\n",
       "      <td>13.0</td>\n",
       "      <td>0.0</td>\n",
       "      <td>1.0</td>\n",
       "      <td>2.0</td>\n",
       "      <td>125.80</td>\n",
       "    </tr>\n",
       "    <tr>\n",
       "      <th>2515</th>\n",
       "      <td>0</td>\n",
       "      <td>0.0</td>\n",
       "      <td>Computer</td>\n",
       "      <td>1</td>\n",
       "      <td>NaN</td>\n",
       "      <td>Credit Card</td>\n",
       "      <td>Male</td>\n",
       "      <td>2.0</td>\n",
       "      <td>3</td>\n",
       "      <td>Mobile</td>\n",
       "      <td>1</td>\n",
       "      <td>Single</td>\n",
       "      <td>3</td>\n",
       "      <td>0</td>\n",
       "      <td>13.0</td>\n",
       "      <td>0.0</td>\n",
       "      <td>1.0</td>\n",
       "      <td>2.0</td>\n",
       "      <td>125.80</td>\n",
       "    </tr>\n",
       "    <tr>\n",
       "      <th>39</th>\n",
       "      <td>0</td>\n",
       "      <td>0.0</td>\n",
       "      <td>Computer</td>\n",
       "      <td>1</td>\n",
       "      <td>NaN</td>\n",
       "      <td>Credit Card</td>\n",
       "      <td>Male</td>\n",
       "      <td>3.0</td>\n",
       "      <td>4</td>\n",
       "      <td>Mobile</td>\n",
       "      <td>3</td>\n",
       "      <td>Married</td>\n",
       "      <td>2</td>\n",
       "      <td>1</td>\n",
       "      <td>15.0</td>\n",
       "      <td>0.0</td>\n",
       "      <td>1.0</td>\n",
       "      <td>1.0</td>\n",
       "      <td>125.66</td>\n",
       "    </tr>\n",
       "    <tr>\n",
       "      <th>1509</th>\n",
       "      <td>0</td>\n",
       "      <td>0.0</td>\n",
       "      <td>Computer</td>\n",
       "      <td>1</td>\n",
       "      <td>NaN</td>\n",
       "      <td>Credit Card</td>\n",
       "      <td>Male</td>\n",
       "      <td>3.0</td>\n",
       "      <td>4</td>\n",
       "      <td>Mobile</td>\n",
       "      <td>3</td>\n",
       "      <td>Married</td>\n",
       "      <td>2</td>\n",
       "      <td>1</td>\n",
       "      <td>15.0</td>\n",
       "      <td>0.0</td>\n",
       "      <td>1.0</td>\n",
       "      <td>1.0</td>\n",
       "      <td>125.66</td>\n",
       "    </tr>\n",
       "    <tr>\n",
       "      <th>1192</th>\n",
       "      <td>0</td>\n",
       "      <td>0.0</td>\n",
       "      <td>Computer</td>\n",
       "      <td>1</td>\n",
       "      <td>NaN</td>\n",
       "      <td>Debit Card</td>\n",
       "      <td>Female</td>\n",
       "      <td>2.0</td>\n",
       "      <td>3</td>\n",
       "      <td>Mobile</td>\n",
       "      <td>1</td>\n",
       "      <td>Single</td>\n",
       "      <td>1</td>\n",
       "      <td>1</td>\n",
       "      <td>14.0</td>\n",
       "      <td>1.0</td>\n",
       "      <td>1.0</td>\n",
       "      <td>2.0</td>\n",
       "      <td>123.79</td>\n",
       "    </tr>\n",
       "    <tr>\n",
       "      <th>...</th>\n",
       "      <td>...</td>\n",
       "      <td>...</td>\n",
       "      <td>...</td>\n",
       "      <td>...</td>\n",
       "      <td>...</td>\n",
       "      <td>...</td>\n",
       "      <td>...</td>\n",
       "      <td>...</td>\n",
       "      <td>...</td>\n",
       "      <td>...</td>\n",
       "      <td>...</td>\n",
       "      <td>...</td>\n",
       "      <td>...</td>\n",
       "      <td>...</td>\n",
       "      <td>...</td>\n",
       "      <td>...</td>\n",
       "      <td>...</td>\n",
       "      <td>...</td>\n",
       "      <td>...</td>\n",
       "    </tr>\n",
       "    <tr>\n",
       "      <th>2516</th>\n",
       "      <td>1</td>\n",
       "      <td>NaN</td>\n",
       "      <td>Phone</td>\n",
       "      <td>1</td>\n",
       "      <td>13.0</td>\n",
       "      <td>Debit Card</td>\n",
       "      <td>Male</td>\n",
       "      <td>3.0</td>\n",
       "      <td>3</td>\n",
       "      <td>Mobile</td>\n",
       "      <td>5</td>\n",
       "      <td>Single</td>\n",
       "      <td>4</td>\n",
       "      <td>1</td>\n",
       "      <td>14.0</td>\n",
       "      <td>0.0</td>\n",
       "      <td>1.0</td>\n",
       "      <td>3.0</td>\n",
       "      <td>121.66</td>\n",
       "    </tr>\n",
       "    <tr>\n",
       "      <th>2</th>\n",
       "      <td>1</td>\n",
       "      <td>NaN</td>\n",
       "      <td>Phone</td>\n",
       "      <td>1</td>\n",
       "      <td>30.0</td>\n",
       "      <td>Debit Card</td>\n",
       "      <td>Male</td>\n",
       "      <td>2.0</td>\n",
       "      <td>4</td>\n",
       "      <td>Mobile</td>\n",
       "      <td>3</td>\n",
       "      <td>Single</td>\n",
       "      <td>6</td>\n",
       "      <td>1</td>\n",
       "      <td>14.0</td>\n",
       "      <td>0.0</td>\n",
       "      <td>1.0</td>\n",
       "      <td>3.0</td>\n",
       "      <td>120.28</td>\n",
       "    </tr>\n",
       "    <tr>\n",
       "      <th>1359</th>\n",
       "      <td>1</td>\n",
       "      <td>NaN</td>\n",
       "      <td>Phone</td>\n",
       "      <td>1</td>\n",
       "      <td>30.0</td>\n",
       "      <td>Debit Card</td>\n",
       "      <td>Male</td>\n",
       "      <td>2.0</td>\n",
       "      <td>4</td>\n",
       "      <td>Mobile</td>\n",
       "      <td>3</td>\n",
       "      <td>Single</td>\n",
       "      <td>6</td>\n",
       "      <td>1</td>\n",
       "      <td>14.0</td>\n",
       "      <td>0.0</td>\n",
       "      <td>1.0</td>\n",
       "      <td>3.0</td>\n",
       "      <td>120.28</td>\n",
       "    </tr>\n",
       "    <tr>\n",
       "      <th>1172</th>\n",
       "      <td>1</td>\n",
       "      <td>NaN</td>\n",
       "      <td>Phone</td>\n",
       "      <td>2</td>\n",
       "      <td>26.0</td>\n",
       "      <td>Credit Card</td>\n",
       "      <td>Female</td>\n",
       "      <td>3.0</td>\n",
       "      <td>3</td>\n",
       "      <td>Mobile</td>\n",
       "      <td>4</td>\n",
       "      <td>Married</td>\n",
       "      <td>1</td>\n",
       "      <td>1</td>\n",
       "      <td>11.0</td>\n",
       "      <td>0.0</td>\n",
       "      <td>1.0</td>\n",
       "      <td>4.0</td>\n",
       "      <td>121.48</td>\n",
       "    </tr>\n",
       "    <tr>\n",
       "      <th>2642</th>\n",
       "      <td>1</td>\n",
       "      <td>NaN</td>\n",
       "      <td>Phone</td>\n",
       "      <td>2</td>\n",
       "      <td>26.0</td>\n",
       "      <td>Credit Card</td>\n",
       "      <td>Female</td>\n",
       "      <td>3.0</td>\n",
       "      <td>3</td>\n",
       "      <td>Mobile</td>\n",
       "      <td>4</td>\n",
       "      <td>Married</td>\n",
       "      <td>1</td>\n",
       "      <td>1</td>\n",
       "      <td>11.0</td>\n",
       "      <td>0.0</td>\n",
       "      <td>1.0</td>\n",
       "      <td>4.0</td>\n",
       "      <td>121.48</td>\n",
       "    </tr>\n",
       "  </tbody>\n",
       "</table>\n",
       "<p>1112 rows × 19 columns</p>\n",
       "</div>"
      ],
      "text/plain": [
       "      Churn  Tenure PreferredLoginDevice  CityTier  WarehouseToHome  \\\n",
       "1045      0     0.0             Computer         1              NaN   \n",
       "2515      0     0.0             Computer         1              NaN   \n",
       "39        0     0.0             Computer         1              NaN   \n",
       "1509      0     0.0             Computer         1              NaN   \n",
       "1192      0     0.0             Computer         1              NaN   \n",
       "...     ...     ...                  ...       ...              ...   \n",
       "2516      1     NaN                Phone         1             13.0   \n",
       "2         1     NaN                Phone         1             30.0   \n",
       "1359      1     NaN                Phone         1             30.0   \n",
       "1172      1     NaN                Phone         2             26.0   \n",
       "2642      1     NaN                Phone         2             26.0   \n",
       "\n",
       "     PreferredPaymentMode  Gender  HourSpendOnApp  NumberOfDeviceRegistered  \\\n",
       "1045          Credit Card    Male             2.0                         3   \n",
       "2515          Credit Card    Male             2.0                         3   \n",
       "39            Credit Card    Male             3.0                         4   \n",
       "1509          Credit Card    Male             3.0                         4   \n",
       "1192           Debit Card  Female             2.0                         3   \n",
       "...                   ...     ...             ...                       ...   \n",
       "2516           Debit Card    Male             3.0                         3   \n",
       "2              Debit Card    Male             2.0                         4   \n",
       "1359           Debit Card    Male             2.0                         4   \n",
       "1172          Credit Card  Female             3.0                         3   \n",
       "2642          Credit Card  Female             3.0                         3   \n",
       "\n",
       "     PreferedOrderCat  SatisfactionScore MaritalStatus  NumberOfAddress  \\\n",
       "1045           Mobile                  1        Single                3   \n",
       "2515           Mobile                  1        Single                3   \n",
       "39             Mobile                  3       Married                2   \n",
       "1509           Mobile                  3       Married                2   \n",
       "1192           Mobile                  1        Single                1   \n",
       "...               ...                ...           ...              ...   \n",
       "2516           Mobile                  5        Single                4   \n",
       "2              Mobile                  3        Single                6   \n",
       "1359           Mobile                  3        Single                6   \n",
       "1172           Mobile                  4       Married                1   \n",
       "2642           Mobile                  4       Married                1   \n",
       "\n",
       "      Complain  OrderAmountHikeFromlastYear  CouponUsed  OrderCount  \\\n",
       "1045         0                         13.0         0.0         1.0   \n",
       "2515         0                         13.0         0.0         1.0   \n",
       "39           1                         15.0         0.0         1.0   \n",
       "1509         1                         15.0         0.0         1.0   \n",
       "1192         1                         14.0         1.0         1.0   \n",
       "...        ...                          ...         ...         ...   \n",
       "2516         1                         14.0         0.0         1.0   \n",
       "2            1                         14.0         0.0         1.0   \n",
       "1359         1                         14.0         0.0         1.0   \n",
       "1172         1                         11.0         0.0         1.0   \n",
       "2642         1                         11.0         0.0         1.0   \n",
       "\n",
       "      DaySinceLastOrder  CashbackAmount  \n",
       "1045                2.0          125.80  \n",
       "2515                2.0          125.80  \n",
       "39                  1.0          125.66  \n",
       "1509                1.0          125.66  \n",
       "1192                2.0          123.79  \n",
       "...                 ...             ...  \n",
       "2516                3.0          121.66  \n",
       "2                   3.0          120.28  \n",
       "1359                3.0          120.28  \n",
       "1172                4.0          121.48  \n",
       "2642                4.0          121.48  \n",
       "\n",
       "[1112 rows x 19 columns]"
      ]
     },
     "execution_count": 217,
     "metadata": {},
     "output_type": "execute_result"
    }
   ],
   "source": [
    "# checking for duplicate row\n",
    "df.sort_values(df.columns.tolist(), inplace = True)\n",
    "df[df.duplicated(keep=False)]"
   ]
  },
  {
   "cell_type": "markdown",
   "id": "9dc53e3a",
   "metadata": {},
   "source": [
    "#### We have few duplicate rows. \n",
    "#### Before dropping them let's check the distribution of our target with and without duplicates"
   ]
  },
  {
   "cell_type": "code",
   "execution_count": 49,
   "id": "274ae9b6",
   "metadata": {},
   "outputs": [
    {
     "data": {
      "text/plain": [
       "<AxesSubplot:>"
      ]
     },
     "execution_count": 49,
     "metadata": {},
     "output_type": "execute_result"
    },
    {
     "data": {
      "image/png": "[encoded data removed]",
      "text/plain": [
       "<Figure size 432x288 with 1 Axes>"
      ]
     },
     "metadata": {
      "needs_background": "light"
     },
     "output_type": "display_data"
    }
   ],
   "source": [
    "df['Churn'].value_counts().plot(kind='barh')  "
   ]
  },
  {
   "cell_type": "code",
   "execution_count": 219,
   "id": "42cbddfb",
   "metadata": {},
   "outputs": [
    {
     "data": {
      "text/plain": [
       "<AxesSubplot:>"
      ]
     },
     "execution_count": 219,
     "metadata": {},
     "output_type": "execute_result"
    },
    {
     "data": {
      "image/png": "[encoded data removed]",
      "text/plain": [
       "<Figure size 432x288 with 1 Axes>"
      ]
     },
     "metadata": {
      "needs_background": "light"
     },
     "output_type": "display_data"
    }
   ],
   "source": [
    "df.drop_duplicates()['Churn'].value_counts().plot(kind='barh')"
   ]
  },
  {
   "cell_type": "markdown",
   "id": "386ab688",
   "metadata": {},
   "source": [
    "#### There is a slight drop in Churn class , which is minority class so we descide not to drop those rows, also our data size is quite  small, so it will not impact much"
   ]
  },
  {
   "cell_type": "code",
   "execution_count": 220,
   "id": "d364ebf8",
   "metadata": {},
   "outputs": [],
   "source": [
    "## X and y split\n",
    "X = df.drop('Churn', axis = 1)\n",
    "y = df['Churn']"
   ]
  },
  {
   "cell_type": "code",
   "execution_count": 221,
   "id": "4b567a83",
   "metadata": {},
   "outputs": [],
   "source": [
    "## Preparing list of columns for above functions\n",
    "missing_columns = [col for col in X.columns if X[col].isna().sum() > 0]\n",
    "cat_cols = df.drop('Churn', axis=1).select_dtypes('O').columns.tolist()\n",
    "num_cols = df.drop('Churn', axis=1).select_dtypes('number').columns.tolist()"
   ]
  },
  {
   "cell_type": "markdown",
   "id": "5fb7553d",
   "metadata": {},
   "source": [
    "## Train Test split"
   ]
  },
  {
   "cell_type": "code",
   "execution_count": 222,
   "id": "25d09f20",
   "metadata": {},
   "outputs": [],
   "source": [
    "def get_train_test(test_size=0.2):\n",
    "    \"\"\"\n",
    "    This function splits the data into train and test set while maintaing the distributation of the target class\n",
    "       \n",
    "    \"\"\"\n",
    "    \n",
    "    \n",
    "    X_train, X_test, y_train, y_test = train_test_split(X, y,\n",
    "                                                    stratify=y, \n",
    "                                                    test_size=test_size,\n",
    "                                                    random_state=214)\n",
    "    return X_train, X_test, y_train, y_test"
   ]
  },
  {
   "cell_type": "markdown",
   "id": "96112267",
   "metadata": {},
   "source": [
    "### Utility functions\n",
    "\n",
    "  we will use following functions to preprocess and train different models\n",
    "\n",
    "#### Missing value imputation\n",
    "\n",
    "We will use impute_missing fuction to impute missing values. It performs following tasks:\n",
    "Impute missing values based on method defined. We can use following methods:\n",
    "\n",
    "        - constant\n",
    "        - median\n",
    "        - XGBoost\n",
    "        - Random Forest"
   ]
  },
  {
   "cell_type": "code",
   "execution_count": 223,
   "id": "25d8c2d5",
   "metadata": {},
   "outputs": [],
   "source": [
    "def get_df(imputer, X_train, X_test):\n",
    "   \n",
    "    X_train_imputed = imputer.transform(X_train)\n",
    "    X_test_imputed = imputer.transform(X_test)\n",
    "\n",
    "    X_train = pd.DataFrame(X_train_imputed, columns=X_train.columns)\n",
    "    X_test = pd.DataFrame(X_test_imputed, columns=X_test.columns)\n",
    "\n",
    "    del X_train_imputed, X_test_imputed\n",
    "    gc.collect()\n",
    "    \n",
    "    return X_train, X_test\n",
    "\n",
    "\n",
    "def impute_missing(columns, X_train, X_test, method='constant', get_indicator=False, cat=cat_cols):\n",
    "    \"\"\"\n",
    "    This function imputes the missing values of both train and test dataset\n",
    "    \n",
    "    parameters: \n",
    "    \n",
    "    columns - list of columns containing missing values\n",
    "    \n",
    "    X_train -  Training set independent variables\n",
    "    \n",
    "    X_test - Test set independent variables\n",
    "    \n",
    "    get_indicator - whether to add a indicator for missing values. False by default\n",
    "    \n",
    "    cat - List of categorical columns. This must be passed if method is xgb or rf\n",
    "    \n",
    "    returns: \n",
    "    \n",
    "    X_train - processed X_train\n",
    "    \n",
    "    X_test - processed X_test\n",
    "    \n",
    "    \"\"\"\n",
    "    \n",
    "    if get_indicator:\n",
    "        \n",
    "#       Add additional column which indicate which value was missing\n",
    "        for col in columns:\n",
    "        \n",
    "            X_train[col + '_missing'] = 0\n",
    "            X_train.loc[X_train[col].isna(), col + '_missing'] = 1\n",
    "\n",
    "            X_test[col + '_missing'] = 0\n",
    "            X_test.loc[X_test[col].isna(), col + '_missing'] = 1\n",
    "            \n",
    "        impute_missing(columns, X_train, X_test, method=method, get_indicator=False)\n",
    "        \n",
    "    else:\n",
    "#       Fill missing values with constant value (-1 in this case)\n",
    "        if method == 'constant':\n",
    "        \n",
    "            X_train.fillna(-1, inplace=True)\n",
    "            X_test.fillna(-1, inplace=True)\n",
    "        \n",
    "#       Fill missing values with median value of that variable\n",
    "        elif method == 'median':\n",
    "        \n",
    "            for col in columns:\n",
    "                \n",
    "                # Calculate the median\n",
    "                median = X_train[col].median()\n",
    "                \n",
    "                X_train[col] = X_train[col].fillna(median)\n",
    "                X_test[col] = X_test[col].fillna(median)\n",
    "        \n",
    "#       Use XGBoost algorithm to fill missing values \n",
    "        elif method == 'xgb':\n",
    "        \n",
    "            X_train_tmp, X_test_tmp = encode_categories(cat, X_train, X_test, method='target')\n",
    "            \n",
    "            imputer = IterativeImputer(estimator=XGBRegressor(random_state=214))\n",
    "            imputer.fit(X_train_tmp)\n",
    "            \n",
    "            X_train_tmp, X_test_tmp = get_df(imputer, X_train_tmp, X_test_tmp)\n",
    "            \n",
    "            X_train_tmp.drop(cat, axis=1, inplace=True)\n",
    "            X_test_tmp.drop(cat, axis=1, inplace=True)\n",
    "            \n",
    "            X_train_tmp.reset_index(drop=True, inplace=True)\n",
    "            X_test_tmp.reset_index(drop=True, inplace=True)\n",
    "            \n",
    "            X_train = X_train[cat]\n",
    "            X_test = X_test[cat]\n",
    "            \n",
    "            X_train.reset_index(drop=True, inplace=True)\n",
    "            X_test.reset_index(drop=True, inplace=True)\n",
    "            \n",
    "            X_train = pd.concat([X_train, X_train_tmp], axis=1)\n",
    "            X_test = pd.concat([X_test, X_test_tmp], axis=1)\n",
    "        \n",
    "#       Use Random Forest to fill missing values\n",
    "        else:\n",
    "        \n",
    "            X_train_tmp, X_test_tmp = encode_categories(cat, X_train, X_test, method='target')\n",
    "            \n",
    "            imputer = IterativeImputer(estimator=RandomForestRegressor(random_state=214, n_jobs=-1))\n",
    "            imputer.fit(X_train_tmp)\n",
    "            \n",
    "            X_train_tmp, X_test_tmp = get_df(imputer, X_train_tmp, X_test_tmp)\n",
    "            \n",
    "            X_train_tmp.drop(cat, axis=1, inplace=True)\n",
    "            X_test_tmp.drop(cat, axis=1, inplace=True)\n",
    "            \n",
    "            X_train_tmp.reset_index(drop=True, inplace=True)\n",
    "            X_test_tmp.reset_index(drop=True, inplace=True)\n",
    "            \n",
    "            X_train = X_train[cat]\n",
    "            X_test = X_test[cat]\n",
    "            \n",
    "            X_train.reset_index(drop=True, inplace=True)\n",
    "            X_test.reset_index(drop=True, inplace=True)\n",
    "            \n",
    "            X_train = pd.concat([X_train, X_train_tmp], axis=1)\n",
    "            X_test = pd.concat([X_test, X_test_tmp], axis=1)\n",
    "            \n",
    "    return X_train, X_test"
   ]
  },
  {
   "cell_type": "markdown",
   "id": "4213cc8a",
   "metadata": {},
   "source": [
    "#### Categorial variable encoding\n",
    "We will use encode_categories fuction to encode categorical variables. It performs following tasks:\n",
    "   -Encode categorical variables based on method defined. We can use following methods:\n",
    "       \n",
    "       - One hot encoding\n",
    "       - Label encoding\n",
    "       - Target encoding"
   ]
  },
  {
   "cell_type": "code",
   "execution_count": 224,
   "id": "7f7861ca",
   "metadata": {},
   "outputs": [],
   "source": [
    "def encode_categories(columns, X_train, X_test, method='ohe'):\n",
    "    \"\"\"\n",
    "    This function encode categorical variables of both train and test dataset\n",
    "    \n",
    "    parameters: \n",
    "    \n",
    "    columns - list of categorical variables\n",
    "    \n",
    "    X_train -  Training set independent variables\n",
    "    \n",
    "    X_test - Test set independent variables\n",
    "    \n",
    "    method - Method to use for encoding categorical variables. Available methods are:\n",
    "             - ohe     : Use one hot encoding\n",
    "             - label   : Use label encoding\n",
    "             - target  : Use target encoding\n",
    "             \n",
    "    returns: \n",
    "    \n",
    "    X_train - processed X_train\n",
    "    \n",
    "    X_test - processed X_test\n",
    "             \n",
    "    \"\"\"\n",
    "#   One hot encoding\n",
    "    if method == 'ohe':\n",
    "        X_train = pd.get_dummies(X_train, columns)\n",
    "        X_test = pd.get_dummies(X_test, columns)\n",
    "    \n",
    "#   Label encoding\n",
    "    elif method == 'label':\n",
    "\n",
    "        for col in columns:\n",
    "            \n",
    "            le = LabelEncoder()\n",
    "            le.fit(X_train[col])\n",
    "            \n",
    "            X_train[col] = le.transform(X_train[col])\n",
    "            X_test[col] = le.transform(X_test[col])\n",
    "\n",
    "#   Target encoding\n",
    "    else:\n",
    "        encoder = ce.TargetEncoder(cols=columns)\n",
    "        encoder.fit(X_train, y_train)\n",
    "        \n",
    "        X_train = encoder.transform(X_train)\n",
    "        X_test = encoder.transform(X_test)\n",
    "        \n",
    "    return X_train, X_test"
   ]
  },
  {
   "cell_type": "markdown",
   "id": "ed994092",
   "metadata": {},
   "source": [
    "## Train and evaluate the model"
   ]
  },
  {
   "cell_type": "raw",
   "id": "9a2106b0",
   "metadata": {},
   "source": [
    "We will use train_test fuction to train and evaluate our models. It performs following tasks:\n",
    "•\tTrain the model and print its performance on test set. We can use following algorithms:\n",
    "    - Logistic Regression\n",
    "    - Naive Bayes\n",
    "    - K Neariest Nabiours\n",
    "    - Support Vector Machines`\n",
    "    - LightGBM\n",
    "    - Random Forest"
   ]
  },
  {
   "cell_type": "code",
   "execution_count": 225,
   "id": "3e6d4a42",
   "metadata": {},
   "outputs": [],
   "source": [
    "def get_performance(model, X_train, X_test, y_train, y_test):\n",
    "    \"\"\"\n",
    "    This function is helper for train_and_test_default function. It evaluates the model on test set and print the performance\n",
    "    \n",
    "    parameters: \n",
    "    \n",
    "    model - Model object that needs to be evaluated\n",
    "    \n",
    "    X_train -  Training set independent variables\n",
    "    \n",
    "    X_test - Test set independent variables\n",
    "    \n",
    "    y_train - Dependent variable for training\n",
    "    \n",
    "    y_test - Dependent variable for evaluating\n",
    "    \n",
    "    \"\"\"\n",
    "    \n",
    "    model.fit(X_train,y_train)\n",
    "    p_test = model.predict(X_test)\n",
    "    p_train = model.predict(X_train)\n",
    "    \n",
    "    print(\"Train Accuracy\")\n",
    "    print(classification_report(y_train, p_train))\n",
    "    print(\"Test Accuracy\")\n",
    "    print(classification_report(y_test, p_test))\n",
    "    \n",
    "    return model\n",
    "\n",
    "def train_test(X_train, X_test, y_train, y_test, algo, params = {}, tuning = False):\n",
    "    \"\"\"\n",
    "    This function train and evaluate the ML model. It prints the performance of model on test set.\n",
    "    \n",
    "    parameters: \n",
    "    \n",
    "    algo - Algorithm to use for training and evaluating. Available methods are:\n",
    "             - lr   : Use Logistic Regression\n",
    "             - nb   : Use Naive Bayes\n",
    "             - knn  : Use K Neariest Nabiours\n",
    "             - svm  : Use Support Vector Machines\n",
    "             - lgbm : Use LightGBM\n",
    "    \n",
    "    \"\"\"\n",
    "    \n",
    "#   Logistic Regression\n",
    "    if algo == 'lr':\n",
    "        model = LogisticRegression(random_state=214, **params)\n",
    "        if tuning:\n",
    "            return model\n",
    "        else:\n",
    "            model = get_performance(model, X_train, X_test, y_train, y_test)\n",
    "        \n",
    "#   Gaussian Naive Bayes      \n",
    "    elif algo == 'nb':\n",
    "        model = GaussianNB(**params)\n",
    "        if tuning:\n",
    "            return model\n",
    "        else:\n",
    "            model = get_performance(model, X_train, X_test, y_train, y_test)\n",
    "        \n",
    "#   K-nearest neighbors\n",
    "    elif algo == 'knn':\n",
    "        model = KNeighborsClassifier(n_jobs=-1, **params)\n",
    "        if tuning:\n",
    "            return model\n",
    "        else:\n",
    "            model = get_performance(model, X_train, X_test, y_train, y_test)\n",
    "    \n",
    "#   Support Vector Machines  \n",
    "    elif algo == 'svm':\n",
    "        model = SVC(random_state=214, **params)\n",
    "        if tuning:\n",
    "            return model\n",
    "        else:\n",
    "            model = get_performance(model, X_train, X_test, y_train, y_test)\n",
    "\n",
    "#   Random Forest\n",
    "    elif algo == 'rf':\n",
    "        model = RandomForestClassifier(random_state=214, n_jobs=-1, **params)\n",
    "        if tuning:\n",
    "            return model\n",
    "        else:\n",
    "            model = get_performance(model, X_train, X_test, y_train, y_test)\n",
    "\n",
    "    \n",
    "#   LightGBM\n",
    "    else:\n",
    "        model = LGBMClassifier(random_state=214, **params)\n",
    "        if tuning:\n",
    "            return model\n",
    "        else:\n",
    "            model = get_performance(model, X_train, X_test, y_train, y_test)\n",
    "        \n",
    "    return model"
   ]
  },
  {
   "cell_type": "markdown",
   "id": "52cc0a83",
   "metadata": {},
   "source": [
    "####  Discretisation\n",
    "We can perform discretisation with discretise function. \n",
    "    -This is an additional feature engineering step we can experiment with to improve our model's performance or treat outliers\n",
    "    - discretisation with target encoding is equivalent to min-max normalization"
   ]
  },
  {
   "cell_type": "code",
   "execution_count": 226,
   "id": "ccc92e8c",
   "metadata": {},
   "outputs": [],
   "source": [
    "def get_intervels(col, bins, X_train, X_test):\n",
    "    \"\"\"\n",
    "    This function is helper for discretise function. It divides the given variable into equal width bins and add label for the same\n",
    "    \n",
    "    parameters: \n",
    "    \n",
    "    col - Column for which intervals and labels need to be calculated\n",
    "    \n",
    "    bins - Number of bins \n",
    "    \n",
    "    \"\"\"\n",
    "    \n",
    "    col_range = X_train[col].max() - X_train[col].min()\n",
    "    \n",
    "    min_value = int(np.floor( X_train[col].min()))\n",
    "    max_value = int(np.ceil( X_train[col].max()))\n",
    "\n",
    "    inter_value = int(np.round(col_range / bins))\n",
    "    \n",
    "    intervals = [i for i in range(min_value, max_value+inter_value, inter_value)]\n",
    "    \n",
    "    labels = ['Bin_' + str(i) for i in range(1, len(intervals))]\n",
    "\n",
    "    return intervals, labels\n",
    "\n",
    "\n",
    "def discretise(columns, bins, X_train, X_test):\n",
    "    \"\"\"\n",
    "    This function discretise given variables into equal width bins and add label for the same\n",
    "    \n",
    "    parameters: \n",
    "    \n",
    "    columns - List of columns to be discretise\n",
    "    \n",
    "    bins - Number of bins\n",
    "    \n",
    "    returns: \n",
    "    \n",
    "    X_train - processed X_train\n",
    "    \n",
    "    X_test - processed X_test\n",
    "    \n",
    "    \"\"\"\n",
    "    \n",
    "    for col in columns:\n",
    "        intervals, labels = get_intervels(col, bins, X_train, X_test)\n",
    "\n",
    "        X_train[col] = pd.cut(x=X_train[col],\n",
    "                                          bins=intervals,\n",
    "                                          labels=labels,\n",
    "                                          include_lowest=True)\n",
    "        X_test[col] = pd.cut(x=X_test[col],\n",
    "                                          bins=intervals,\n",
    "                                          labels=labels,\n",
    "                                          include_lowest=True)\n",
    "    \n",
    "    \n",
    "    return X_train, X_test"
   ]
  },
  {
   "cell_type": "markdown",
   "id": "fd5a9d88",
   "metadata": {},
   "source": [
    "#####  Standardization\n",
    "We can perform standardization with scale function. This step helps models like logistic regression to perform better as it scales the features to have same range from -1 to +1 with mean 0\n"
   ]
  },
  {
   "cell_type": "code",
   "execution_count": 227,
   "id": "dff49178",
   "metadata": {},
   "outputs": [],
   "source": [
    "def scale(columns, X_train, X_test):\n",
    "    \"\"\"\n",
    "    This function Standardize given variables to have mean 0 and std dev 1\n",
    "    \n",
    "    parameters: \n",
    "    \n",
    "    columns - List of columns to be Standardize\n",
    "    \n",
    "    returns: \n",
    "    \n",
    "    X_train - processed X_train\n",
    "    \n",
    "    X_test - processed X_test\n",
    "    \n",
    "    \"\"\"\n",
    "    \n",
    "    scaler = StandardScaler()\n",
    "    scaler.fit(X_train[columns])\n",
    "    \n",
    "    # Transform columns\n",
    "    tmp_train = pd.DataFrame(scaler.transform(X_train[columns]), columns=columns)\n",
    "    tmp_test = pd.DataFrame(scaler.transform(X_test[columns]), columns=columns)\n",
    "    \n",
    "    # Remove columns \n",
    "    X_train.drop(columns=columns, axis=1, inplace=True)\n",
    "    X_test.drop(columns=columns, axis=1, inplace=True)\n",
    "    \n",
    "    # Resetting Index\n",
    "    X_train.reset_index(drop=True, inplace=True)\n",
    "    X_test.reset_index(drop=True, inplace=True)\n",
    "    \n",
    "    # Combine the above two\n",
    "    X_train = pd.concat([X_train, tmp_train], axis=1)\n",
    "    X_test = pd.concat([X_test, tmp_test], axis=1)\n",
    "    \n",
    "    return X_train, X_test"
   ]
  },
  {
   "cell_type": "markdown",
   "id": "2514fd2a",
   "metadata": {},
   "source": [
    "## Outliers Treatment"
   ]
  },
  {
   "cell_type": "raw",
   "id": "87875fda",
   "metadata": {},
   "source": [
    "We detect and treat the outliers with fix_outliers function. the function do following tasks:\n",
    "    - Identify max and min values based on IQR\n",
    "    - Cap the outliers with the max and min values"
   ]
  },
  {
   "cell_type": "code",
   "execution_count": 228,
   "id": "bb5072ae",
   "metadata": {},
   "outputs": [],
   "source": [
    "def fix_outliers(columns, X_train, X_test):\n",
    "    \"\"\"\n",
    "    This function trims the outliers based on IQR method\n",
    "    \n",
    "    parameters: \n",
    "    \n",
    "    columns - List of columns to be treat outliers\n",
    "    \n",
    "    returns: \n",
    "    \n",
    "    X_train - processed X_train\n",
    "    \n",
    "    X_test - processed X_test\n",
    "    \n",
    "    \"\"\"\n",
    "    \n",
    "    for col in columns:\n",
    "        \n",
    "        # Find IQR\n",
    "        percentile25 = X_train[col].quantile(0.25)\n",
    "        percentile75 = X_train[col].quantile(0.75)\n",
    "        iqr = percentile75 - percentile25\n",
    "        \n",
    "        # Find max and min\n",
    "        upper_limit = percentile75 + 1.5 * iqr\n",
    "        lower_limit = percentile25 - 1.5 * iqr\n",
    "        \n",
    "        # Cap the outliers\n",
    "        np.where(X_train[col] < lower_limit, lower_limit, X_train[col])\n",
    "        np.where(X_test[col] < lower_limit, lower_limit, X_test[col])\n",
    "        \n",
    "        np.where(X_train[col] > upper_limit, upper_limit, X_train[col])\n",
    "        np.where(X_test[col] > upper_limit, upper_limit, X_test[col])\n",
    "        \n",
    "    return X_train, X_test"
   ]
  },
  {
   "cell_type": "markdown",
   "id": "a5259629",
   "metadata": {},
   "source": [
    "### Feature Importance"
   ]
  },
  {
   "cell_type": "markdown",
   "id": "6f1da1e5",
   "metadata": {},
   "source": [
    "We are going to get feature importance for :\n",
    " - Light GBM\n",
    " - Random Forest\n",
    " - Logistic Regression"
   ]
  },
  {
   "cell_type": "code",
   "execution_count": 229,
   "id": "ca4220f6",
   "metadata": {},
   "outputs": [],
   "source": [
    "def get_importance(model,X):\n",
    "    if isinstance(model,LGBMClassifier) | isinstance(model, RandomForestClassifier):\n",
    "        imp = pd.DataFrame({'Importance': model.feature_importances_, 'Feature': X.columns})\n",
    "        imp.sort_values('Importance', ascending = False, inplace=True)\n",
    "        imp.set_index('Feature').plot(kind = 'barh')\n",
    "        \n",
    "    elif isinstance(model, LogisticRegression):\n",
    "        imp = pd.DataFrame({'coefficient' : model.coef_[0], 'Feature':X.columns})\n",
    "        imp.set_index('Feature').plot(kind = 'barh')\n",
    "        \n",
    "    return imp"
   ]
  },
  {
   "cell_type": "markdown",
   "id": "73c7a72e",
   "metadata": {},
   "source": [
    "\n"
   ]
  },
  {
   "cell_type": "markdown",
   "id": "f1f1c058",
   "metadata": {},
   "source": [
    "## Hyperparameter tuning\n",
    "\n",
    "We have used :\n",
    " \n",
    "    - Random search\n",
    "    - Grid Search"
   ]
  },
  {
   "cell_type": "code",
   "execution_count": 230,
   "id": "4c65cdb5",
   "metadata": {},
   "outputs": [],
   "source": [
    "def hyper_tune(algo, space, X_train, X_test, y_train, y_test, method = 'random', n_splits = 5, n_repeats = 2, n_iter = 200):\n",
    "    \"\"\"\n",
    "     parameters:\n",
    "     Algo = the algorithm needs to be tuned\n",
    "     space = parameters grid that needs to be evaluated\n",
    "     method = which method we are using Random forest/ Grid search\n",
    "     n_splits = no. of splits for cross validation\n",
    "     n_repeats = no of repeats for repeated cross validation\n",
    "     n_iter = no of parameter settings that are sampled\n",
    "     returns:\n",
    "     Trained model on best parameter combination\n",
    "    \n",
    "      \"\"\"\n",
    "    \n",
    "    model = train_test(X_train, X_test, y_train, y_test, algo, tuning= True)\n",
    "    \n",
    "    # define evaluation\n",
    "    cv = RepeatedStratifiedKFold(n_splits=n_splits, n_repeats=n_repeats, random_state = 214)\n",
    "    \n",
    "    if method == 'random':\n",
    "        \n",
    "        #define search\n",
    "        search = RandomizedSearchCV(model, space, n_iter= n_iter, scoring= 'f1', n_jobs=-1, cv=cv, random_state = 214,refit=True)\n",
    "        \n",
    "        #execute search\n",
    "        result = search.fit(X_train, y_train)\n",
    "        \n",
    "    else:\n",
    "    \n",
    "        # define search\n",
    "        search = GridSearchCV(model, space, scoring='f1', n_jobs= -1, cv=cv, refit=True)\n",
    "        \n",
    "        # execute search\n",
    "        result = search.fit(X_train, y_train)\n",
    "        \n",
    "    # summerize result\n",
    "    print('Best Score: %s' % result.best_score_)\n",
    "    print('Best Hyperparameter: %s' % result.best_params_)\n",
    "    \n",
    "    return result"
   ]
  },
  {
   "cell_type": "markdown",
   "id": "bb61da8a",
   "metadata": {},
   "source": [
    "### Prototype (Naive Bayes Baseline)"
   ]
  },
  {
   "cell_type": "raw",
   "id": "0cd547c2",
   "metadata": {},
   "source": [
    "We will follow following Pipeline:\n",
    "    •\tsplit\n",
    "    •\timpute missing with constant\n",
    "    •\tOHE for categorical columns\n",
    "    •\tTrain Naive Bayes"
   ]
  },
  {
   "cell_type": "code",
   "execution_count": 232,
   "id": "54555dd0",
   "metadata": {},
   "outputs": [
    {
     "name": "stdout",
     "output_type": "stream",
     "text": [
      "Train Accuracy\n",
      "              precision    recall  f1-score   support\n",
      "\n",
      "           0       0.93      0.73      0.81      3746\n",
      "           1       0.35      0.72      0.47       758\n",
      "\n",
      "    accuracy                           0.73      4504\n",
      "   macro avg       0.64      0.72      0.64      4504\n",
      "weighted avg       0.83      0.73      0.76      4504\n",
      "\n",
      "Test Accuracy\n",
      "              precision    recall  f1-score   support\n",
      "\n",
      "           0       0.94      0.74      0.83       936\n",
      "           1       0.38      0.77      0.51       190\n",
      "\n",
      "    accuracy                           0.75      1126\n",
      "   macro avg       0.66      0.76      0.67      1126\n",
      "weighted avg       0.85      0.75      0.78      1126\n",
      "\n"
     ]
    }
   ],
   "source": [
    "# Implementing Naive bayes\n",
    "# Split\n",
    "X_train, X_test, y_train, y_test = get_train_test()\n",
    "\n",
    "# Missing value imputation\n",
    "X_train, X_test = impute_missing(missing_columns, X_train, X_test, method='constant', get_indicator=False, cat=cat_cols)\n",
    "                                              ## get_indicator=False means we need not a flag variable for missing cells\n",
    "\n",
    "# Categorical variable encoding\n",
    "X_train, X_test = encode_categories(cat_cols, X_train, X_test, method='ohe')\n",
    "\n",
    "# Train & evaluate\n",
    "model = train_test(X_train, X_test, y_train, y_test, algo='nb')"
   ]
  },
  {
   "cell_type": "raw",
   "id": "ca21dfef",
   "metadata": {},
   "source": [
    "## Naive Base further modification\n",
    "We will follow following Pipeline:\n",
    "•\tsplit\n",
    "•\timpute missing with median\n",
    "•\tTarget encoding for categorical columns\n",
    "•\tStandardize\n",
    "•\tTrain Naive Bayes"
   ]
  },
  {
   "cell_type": "code",
   "execution_count": 233,
   "id": "e2966ed6",
   "metadata": {},
   "outputs": [
    {
     "name": "stdout",
     "output_type": "stream",
     "text": [
      "Train Accuracy\n",
      "              precision    recall  f1-score   support\n",
      "\n",
      "           0       0.92      0.90      0.91      3746\n",
      "           1       0.55      0.62      0.58       758\n",
      "\n",
      "    accuracy                           0.85      4504\n",
      "   macro avg       0.73      0.76      0.74      4504\n",
      "weighted avg       0.86      0.85      0.85      4504\n",
      "\n",
      "Test Accuracy\n",
      "              precision    recall  f1-score   support\n",
      "\n",
      "           0       0.93      0.90      0.92       936\n",
      "           1       0.58      0.66      0.62       190\n",
      "\n",
      "    accuracy                           0.86      1126\n",
      "   macro avg       0.75      0.78      0.77      1126\n",
      "weighted avg       0.87      0.86      0.86      1126\n",
      "\n"
     ]
    },
    {
     "data": {
      "text/plain": [
       "GaussianNB()"
      ]
     },
     "execution_count": 233,
     "metadata": {},
     "output_type": "execute_result"
    }
   ],
   "source": [
    "# Implementing Naive bayes\n",
    "# Split\n",
    "X_train, X_test, y_train, y_test = get_train_test()\n",
    "\n",
    "# Missing value imputation\n",
    "X_train, X_test = impute_missing(missing_columns, X_train, X_test, method='median', get_indicator=False, cat=cat_cols)\n",
    "\n",
    "# Categorical variable encoding\n",
    "X_train, X_test = encode_categories(cat_cols, X_train, X_test, method='target')\n",
    "\n",
    "# Standardize\n",
    "X_train, X_test = scale(num_cols, X_train, X_test)\n",
    "\n",
    "# Train & evaluate\n",
    "train_test(X_train, X_test, y_train, y_test, algo='nb')"
   ]
  },
  {
   "cell_type": "raw",
   "id": "b4035cec",
   "metadata": {},
   "source": [
    "We will follow following Pipeline:\n",
    "    - split\n",
    "    - impute missing with median\n",
    "    - Target enc for categorical columns\n",
    "    - discretise\n",
    "    - Encode discretise variables\n",
    "    - Train Naive Bayes\n"
   ]
  },
  {
   "cell_type": "code",
   "execution_count": 234,
   "id": "94ea4c25",
   "metadata": {},
   "outputs": [
    {
     "name": "stdout",
     "output_type": "stream",
     "text": [
      "Train Accuracy\n",
      "              precision    recall  f1-score   support\n",
      "\n",
      "           0       0.92      0.81      0.86      3746\n",
      "           1       0.41      0.65      0.50       758\n",
      "\n",
      "    accuracy                           0.79      4504\n",
      "   macro avg       0.67      0.73      0.68      4504\n",
      "weighted avg       0.83      0.79      0.80      4504\n",
      "\n",
      "Test Accuracy\n",
      "              precision    recall  f1-score   support\n",
      "\n",
      "           0       0.93      0.82      0.87       936\n",
      "           1       0.45      0.71      0.55       190\n",
      "\n",
      "    accuracy                           0.80      1126\n",
      "   macro avg       0.69      0.77      0.71      1126\n",
      "weighted avg       0.85      0.80      0.82      1126\n",
      "\n"
     ]
    },
    {
     "data": {
      "text/plain": [
       "GaussianNB()"
      ]
     },
     "execution_count": 234,
     "metadata": {},
     "output_type": "execute_result"
    }
   ],
   "source": [
    "# Implementing Naive bayes\n",
    "# Split\n",
    "X_train, X_test, y_train, y_test = get_train_test()\n",
    "\n",
    "# Missing value imputation\n",
    "X_train, X_test = impute_missing(missing_columns, X_train, X_test, method='median', get_indicator=False, cat=cat_cols)\n",
    "\n",
    "# Categorical variable encoding\n",
    "X_train, X_test = encode_categories(cat_cols, X_train, X_test, method='target')\n",
    "\n",
    "# Discretise\n",
    "X_train, X_test = discretise(missing_columns, 7, X_train, X_test)\n",
    "\n",
    "# Encoding discretise variables\n",
    "X_train, X_test = encode_categories(missing_columns, X_train, X_test, method='target')\n",
    "\n",
    "# Train & evaluate\n",
    "train_test(X_train, X_test, y_train, y_test, algo='nb')"
   ]
  },
  {
   "cell_type": "raw",
   "id": "041430d4",
   "metadata": {},
   "source": [
    "We will follow following Pipeline:\n",
    "    - split\n",
    "    - impute missing with median\n",
    "    - Target enc for categorical columns\n",
    "    - Outlier treatment\n",
    "    - Train Naive Bayes"
   ]
  },
  {
   "cell_type": "code",
   "execution_count": 235,
   "id": "3e86a5ae",
   "metadata": {},
   "outputs": [
    {
     "name": "stdout",
     "output_type": "stream",
     "text": [
      "Train Accuracy\n",
      "              precision    recall  f1-score   support\n",
      "\n",
      "           0       0.92      0.90      0.91      3746\n",
      "           1       0.55      0.62      0.58       758\n",
      "\n",
      "    accuracy                           0.85      4504\n",
      "   macro avg       0.73      0.76      0.74      4504\n",
      "weighted avg       0.86      0.85      0.85      4504\n",
      "\n",
      "Test Accuracy\n",
      "              precision    recall  f1-score   support\n",
      "\n",
      "           0       0.93      0.90      0.92       936\n",
      "           1       0.58      0.66      0.62       190\n",
      "\n",
      "    accuracy                           0.86      1126\n",
      "   macro avg       0.75      0.78      0.77      1126\n",
      "weighted avg       0.87      0.86      0.86      1126\n",
      "\n"
     ]
    },
    {
     "data": {
      "text/plain": [
       "GaussianNB()"
      ]
     },
     "execution_count": 235,
     "metadata": {},
     "output_type": "execute_result"
    }
   ],
   "source": [
    "# Implementing Naive bayes\n",
    "# Split\n",
    "X_train, X_test, y_train, y_test = get_train_test()\n",
    "\n",
    "# Missing value imputation\n",
    "X_train, X_test = impute_missing(missing_columns, X_train, X_test, method='median', get_indicator=False, cat=cat_cols)\n",
    "\n",
    "# Categorical variable encoding\n",
    "X_train, X_test = encode_categories(cat_cols, X_train, X_test, method='target')\n",
    "\n",
    "# outliers treatment\n",
    "X_train, X_test = fix_outliers(num_cols, X_train, X_test)\n",
    "\n",
    "# Train & evaluate\n",
    "train_test(X_train, X_test, y_train, y_test, algo='nb')\n"
   ]
  },
  {
   "cell_type": "markdown",
   "id": "f8895064",
   "metadata": {},
   "source": [
    "## Logistic Regression"
   ]
  },
  {
   "cell_type": "raw",
   "id": "5968aef5",
   "metadata": {},
   "source": [
    "We will follow following Pipeline:\n",
    "  •\tsplit\n",
    "  •\timpute missing with median\n",
    "  •\tTarget encoder for categorical columns\n",
    "  •\tremove outliers\n",
    "  •\tTrain Logistic Regression"
   ]
  },
  {
   "cell_type": "code",
   "execution_count": 236,
   "id": "f0ae4eee",
   "metadata": {},
   "outputs": [
    {
     "name": "stdout",
     "output_type": "stream",
     "text": [
      "Train Accuracy\n",
      "              precision    recall  f1-score   support\n",
      "\n",
      "           0       0.89      0.96      0.93      3746\n",
      "           1       0.70      0.42      0.52       758\n",
      "\n",
      "    accuracy                           0.87      4504\n",
      "   macro avg       0.79      0.69      0.72      4504\n",
      "weighted avg       0.86      0.87      0.86      4504\n",
      "\n",
      "Test Accuracy\n",
      "              precision    recall  f1-score   support\n",
      "\n",
      "           0       0.90      0.98      0.93       936\n",
      "           1       0.80      0.44      0.56       190\n",
      "\n",
      "    accuracy                           0.89      1126\n",
      "   macro avg       0.85      0.71      0.75      1126\n",
      "weighted avg       0.88      0.89      0.87      1126\n",
      "\n"
     ]
    }
   ],
   "source": [
    "# Split\n",
    "X_train, X_test, y_train, y_test = get_train_test()\n",
    "\n",
    "# Missing value imputation\n",
    "X_train, X_test = impute_missing(missing_columns, X_train, X_test, method='median', get_indicator=False, cat=cat_cols)\n",
    "\n",
    "# Categorical variable encoding\n",
    "X_train, X_test = encode_categories(cat_cols, X_train, X_test, method='target')\n",
    "\n",
    "# outliers treatment\n",
    "X_train, X_test = fix_outliers(num_cols, X_train, X_test)\n",
    "\n",
    "# Train & evaluate\n",
    "model = train_test(X_train, X_test, y_train, y_test, algo='lr')"
   ]
  },
  {
   "cell_type": "raw",
   "id": "d7a9c788",
   "metadata": {},
   "source": [
    "We will follow following Pipeline:\n",
    "  •\tsplit\n",
    "  •\timpute missing with median\n",
    "  •\tTarget enc for categorical columns\n",
    "  •\tremove outliers\n",
    "  •\tStandardize\n",
    "  •\tTrain Logistic Regression\n"
   ]
  },
  {
   "cell_type": "code",
   "execution_count": 237,
   "id": "f4c521f8",
   "metadata": {},
   "outputs": [
    {
     "name": "stdout",
     "output_type": "stream",
     "text": [
      "Train Accuracy\n",
      "              precision    recall  f1-score   support\n",
      "\n",
      "           0       0.90      0.97      0.93      3746\n",
      "           1       0.75      0.46      0.57       758\n",
      "\n",
      "    accuracy                           0.88      4504\n",
      "   macro avg       0.82      0.71      0.75      4504\n",
      "weighted avg       0.87      0.88      0.87      4504\n",
      "\n",
      "Test Accuracy\n",
      "              precision    recall  f1-score   support\n",
      "\n",
      "           0       0.91      0.97      0.94       936\n",
      "           1       0.79      0.55      0.65       190\n",
      "\n",
      "    accuracy                           0.90      1126\n",
      "   macro avg       0.85      0.76      0.79      1126\n",
      "weighted avg       0.89      0.90      0.89      1126\n",
      "\n"
     ]
    }
   ],
   "source": [
    "# Split\n",
    "X_train, X_test, y_train, y_test = get_train_test()\n",
    "\n",
    "# Missing value imputation\n",
    "X_train, X_test = impute_missing(missing_columns, X_train, X_test, method='median', get_indicator=False, cat=cat_cols)\n",
    "\n",
    "# Categorical variable encoding\n",
    "X_train, X_test = encode_categories(cat_cols, X_train, X_test, method='target')\n",
    "\n",
    "# Remove outliers\n",
    "X_train, X_test = fix_outliers(num_cols, X_train, X_test)\n",
    "\n",
    "# Standardize\n",
    "X_train, X_test = scale(num_cols, X_train, X_test)\n",
    "\n",
    "# Train & evaluate\n",
    "model = train_test(X_train, X_test, y_train, y_test, algo='lr')"
   ]
  },
  {
   "cell_type": "raw",
   "id": "f9dc1e20",
   "metadata": {},
   "source": [
    "We will follow following Pipeline:\n",
    "  •\tsplit\n",
    "  •\timpute missing with median and add_indicator (flagging 1 for missing cell and 0 for non missing cell)\n",
    "  •\tTarget encoder for categorical columns\n",
    "  •\tremove outliers\n",
    "  •\tStandardize\n",
    "  •\tTrain Logistic Regression"
   ]
  },
  {
   "cell_type": "code",
   "execution_count": 238,
   "id": "f96e6c80",
   "metadata": {},
   "outputs": [
    {
     "name": "stdout",
     "output_type": "stream",
     "text": [
      "Train Accuracy\n",
      "              precision    recall  f1-score   support\n",
      "\n",
      "           0       0.90      0.97      0.93      3746\n",
      "           1       0.75      0.47      0.58       758\n",
      "\n",
      "    accuracy                           0.88      4504\n",
      "   macro avg       0.83      0.72      0.76      4504\n",
      "weighted avg       0.88      0.88      0.87      4504\n",
      "\n",
      "Test Accuracy\n",
      "              precision    recall  f1-score   support\n",
      "\n",
      "           0       0.91      0.97      0.94       936\n",
      "           1       0.81      0.55      0.66       190\n",
      "\n",
      "    accuracy                           0.90      1126\n",
      "   macro avg       0.86      0.76      0.80      1126\n",
      "weighted avg       0.90      0.90      0.89      1126\n",
      "\n"
     ]
    }
   ],
   "source": [
    "# Split\n",
    "X_train, X_test, y_train, y_test = get_train_test()\n",
    "\n",
    "# Missing value imputation\n",
    "X_train, X_test = impute_missing(missing_columns, X_train, X_test, method='median', get_indicator=True, cat=cat_cols)\n",
    "\n",
    "# Categorical variable encoding\n",
    "X_train, X_test = encode_categories(cat_cols, X_train, X_test, method='target')\n",
    "\n",
    "# Remove outliers\n",
    "X_train, X_test = fix_outliers(num_cols, X_train, X_test)\n",
    "\n",
    "# Standardize\n",
    "X_train, X_test = scale(num_cols, X_train, X_test)\n",
    "\n",
    "# Train & evaluate\n",
    "model = train_test(X_train, X_test, y_train, y_test, algo='lr')"
   ]
  },
  {
   "cell_type": "raw",
   "id": "2602a43b",
   "metadata": {},
   "source": [
    "  We will follow following Pipeline:\n",
    "    •\tsplit\n",
    "    •\timpute missing with XGB\n",
    "    •\tTarget encoder for categorical columns\n",
    "    •\tremove outliers\n",
    "    •\tStandardize\n",
    "    •\tTrain Logistic Regression"
   ]
  },
  {
   "cell_type": "code",
   "execution_count": 239,
   "id": "df416784",
   "metadata": {},
   "outputs": [
    {
     "name": "stdout",
     "output_type": "stream",
     "text": [
      "Train Accuracy\n",
      "              precision    recall  f1-score   support\n",
      "\n",
      "           0       0.89      0.97      0.93      3746\n",
      "           1       0.73      0.43      0.55       758\n",
      "\n",
      "    accuracy                           0.88      4504\n",
      "   macro avg       0.81      0.70      0.74      4504\n",
      "weighted avg       0.87      0.88      0.86      4504\n",
      "\n",
      "Test Accuracy\n",
      "              precision    recall  f1-score   support\n",
      "\n",
      "           0       0.90      0.98      0.94       936\n",
      "           1       0.80      0.49      0.61       190\n",
      "\n",
      "    accuracy                           0.89      1126\n",
      "   macro avg       0.85      0.73      0.77      1126\n",
      "weighted avg       0.89      0.89      0.88      1126\n",
      "\n"
     ]
    }
   ],
   "source": [
    "# Split\n",
    "X_train, X_test, y_train, y_test = get_train_test()\n",
    "\n",
    "# Missing value imputation\n",
    "X_train, X_test = impute_missing(missing_columns, X_train, X_test, method='xgb', get_indicator=False, cat=cat_cols)\n",
    "\n",
    "# Categorical variable encoding\n",
    "X_train, X_test = encode_categories(cat_cols, X_train, X_test, method='target')\n",
    "\n",
    "# Remove outliers\n",
    "X_train, X_test = fix_outliers(num_cols, X_train, X_test)\n",
    "\n",
    "# Standardize\n",
    "X_train, X_test = scale(num_cols, X_train, X_test)\n",
    "\n",
    "# Train & evaluate\n",
    "model = train_test(X_train, X_test, y_train, y_test, algo='lr')"
   ]
  },
  {
   "cell_type": "raw",
   "id": "b244fa18",
   "metadata": {},
   "source": [
    "We will follow following Pipeline:\n",
    "    •\tsplit\n",
    "    •\timpute missing with RF\n",
    "    •\tTarget encoder for categorical columns\n",
    "    •\tremove outliers\n",
    "    •\tStandardize\n",
    "    •\tTrain Logistic Regression"
   ]
  },
  {
   "cell_type": "code",
   "execution_count": 240,
   "id": "e58e26e4",
   "metadata": {},
   "outputs": [
    {
     "name": "stdout",
     "output_type": "stream",
     "text": [
      "Train Accuracy\n",
      "              precision    recall  f1-score   support\n",
      "\n",
      "           0       0.89      0.97      0.93      3746\n",
      "           1       0.72      0.43      0.54       758\n",
      "\n",
      "    accuracy                           0.88      4504\n",
      "   macro avg       0.81      0.70      0.73      4504\n",
      "weighted avg       0.86      0.88      0.86      4504\n",
      "\n",
      "Test Accuracy\n",
      "              precision    recall  f1-score   support\n",
      "\n",
      "           0       0.91      0.98      0.94       936\n",
      "           1       0.81      0.51      0.62       190\n",
      "\n",
      "    accuracy                           0.90      1126\n",
      "   macro avg       0.86      0.74      0.78      1126\n",
      "weighted avg       0.89      0.90      0.89      1126\n",
      "\n"
     ]
    }
   ],
   "source": [
    "# Split\n",
    "X_train, X_test, y_train, y_test = get_train_test()\n",
    "\n",
    "# Missing value imputation\n",
    "X_train, X_test = impute_missing(missing_columns, X_train, X_test, method='rf', get_indicator=False, cat=cat_cols)\n",
    "\n",
    "# Categorical variable encoding\n",
    "X_train, X_test = encode_categories(cat_cols, X_train, X_test, method='target')\n",
    "\n",
    "# Remove outliers\n",
    "X_train, X_test = fix_outliers(num_cols, X_train, X_test)\n",
    "\n",
    "# Standardize\n",
    "X_train, X_test = scale(num_cols, X_train, X_test)\n",
    "\n",
    "# Train & evaluate\n",
    "model = train_test(X_train, X_test, y_train, y_test, algo='lr')"
   ]
  },
  {
   "cell_type": "raw",
   "id": "a81ab95f",
   "metadata": {},
   "source": [
    "We will follow following Pipeline:\n",
    "    •\tsplit\n",
    "    •\timpute missing with median\n",
    "    •\tOHE for categorical columns\n",
    "    •\tTreating outliers\n",
    "    •\tStandardize\n",
    "    •\tTrain Logistic Regression"
   ]
  },
  {
   "cell_type": "code",
   "execution_count": 241,
   "id": "9a1dbdf1",
   "metadata": {},
   "outputs": [
    {
     "name": "stdout",
     "output_type": "stream",
     "text": [
      "Train Accuracy\n",
      "              precision    recall  f1-score   support\n",
      "\n",
      "           0       0.91      0.97      0.94      3746\n",
      "           1       0.78      0.51      0.61       758\n",
      "\n",
      "    accuracy                           0.89      4504\n",
      "   macro avg       0.84      0.74      0.78      4504\n",
      "weighted avg       0.88      0.89      0.88      4504\n",
      "\n",
      "Test Accuracy\n",
      "              precision    recall  f1-score   support\n",
      "\n",
      "           0       0.92      0.97      0.94       936\n",
      "           1       0.78      0.58      0.67       190\n",
      "\n",
      "    accuracy                           0.90      1126\n",
      "   macro avg       0.85      0.78      0.80      1126\n",
      "weighted avg       0.90      0.90      0.90      1126\n",
      "\n"
     ]
    }
   ],
   "source": [
    "# Split\n",
    "X_train, X_test, y_train, y_test = get_train_test()\n",
    "\n",
    "# Missing value imputation\n",
    "X_train, X_test = impute_missing(missing_columns, X_train, X_test, method='median', get_indicator=False, cat=cat_cols)\n",
    "\n",
    "# Categorical variable encoding\n",
    "X_train, X_test = encode_categories(cat_cols, X_train, X_test, method='ohe')\n",
    "\n",
    "# Remove outliers\n",
    "X_train, X_test = fix_outliers(num_cols, X_train, X_test)\n",
    "\n",
    "# Standardize\n",
    "X_train, X_test = scale(num_cols, X_train, X_test)\n",
    "\n",
    "# Train & evaluate\n",
    "model = train_test(X_train, X_test, y_train, y_test, algo='lr')"
   ]
  },
  {
   "cell_type": "code",
   "execution_count": 242,
   "id": "531f949e",
   "metadata": {},
   "outputs": [
    {
     "name": "stdout",
     "output_type": "stream",
     "text": [
      "Best Score: 0.6065524574150356\n",
      "Best Hyperparameter: {'solver': 'newton-cg', 'penalty': 'none', 'C': 1e-05}\n"
     ]
    }
   ],
   "source": [
    "## Hyperparameter tunning\n",
    "\n",
    "space = dict()\n",
    "space['solver'] = ['newton-cg', 'lbfgs', 'liblinear']\n",
    "space['penalty'] = ['none', 'l1','l2','elasticnet']\n",
    "space['C'] = [.00001, .0001,.001,.1,1,10,100]\n",
    "model = hyper_tune(algo = 'lr', space=space, X_train= X_train, X_test = X_test, \n",
    "                    y_train=y_train, y_test=y_test, method='random')"
   ]
  },
  {
   "cell_type": "code",
   "execution_count": 243,
   "id": "0090b5e8",
   "metadata": {},
   "outputs": [
    {
     "name": "stdout",
     "output_type": "stream",
     "text": [
      "Train Accuracy\n",
      "              precision    recall  f1-score   support\n",
      "\n",
      "           0       0.91      0.97      0.94      3746\n",
      "           1       0.76      0.51      0.61       758\n",
      "\n",
      "    accuracy                           0.89      4504\n",
      "   macro avg       0.84      0.74      0.78      4504\n",
      "weighted avg       0.88      0.89      0.88      4504\n",
      "\n",
      "Test Accuracy\n",
      "              precision    recall  f1-score   support\n",
      "\n",
      "           0       0.92      0.96      0.94       936\n",
      "           1       0.74      0.58      0.65       190\n",
      "\n",
      "    accuracy                           0.90      1126\n",
      "   macro avg       0.83      0.77      0.80      1126\n",
      "weighted avg       0.89      0.90      0.89      1126\n",
      "\n"
     ]
    }
   ],
   "source": [
    "model = train_test(X_train,X_test,y_train,y_test, algo = 'lr', params = {'C':1e-05,'penalty': 'none', 'solver':'newton-cg' })"
   ]
  },
  {
   "cell_type": "markdown",
   "id": "aa78f055",
   "metadata": {},
   "source": [
    "## SVM"
   ]
  },
  {
   "cell_type": "raw",
   "id": "340b7249",
   "metadata": {},
   "source": [
    "We will follow following Pipeline:\n",
    "        •\tsplit\n",
    "        •\timpute missing with median\n",
    "        •\tTarget enc for categorical columns\n",
    "        •\tremove outliers\n",
    "        •\tTrain SVM\n"
   ]
  },
  {
   "cell_type": "code",
   "execution_count": 244,
   "id": "88fb57a2",
   "metadata": {},
   "outputs": [
    {
     "name": "stdout",
     "output_type": "stream",
     "text": [
      "Train Accuracy\n",
      "              precision    recall  f1-score   support\n",
      "\n",
      "           0       0.83      1.00      0.91      3746\n",
      "           1       0.00      0.00      0.00       758\n",
      "\n",
      "    accuracy                           0.83      4504\n",
      "   macro avg       0.42      0.50      0.45      4504\n",
      "weighted avg       0.69      0.83      0.76      4504\n",
      "\n",
      "Test Accuracy\n",
      "              precision    recall  f1-score   support\n",
      "\n",
      "           0       0.83      1.00      0.91       936\n",
      "           1       0.00      0.00      0.00       190\n",
      "\n",
      "    accuracy                           0.83      1126\n",
      "   macro avg       0.42      0.50      0.45      1126\n",
      "weighted avg       0.69      0.83      0.75      1126\n",
      "\n"
     ]
    }
   ],
   "source": [
    "# Split\n",
    "X_train, X_test, y_train, y_test = get_train_test()\n",
    "\n",
    "# Missing value imputation\n",
    "X_train, X_test = impute_missing(missing_columns, X_train, X_test, method='median', get_indicator=False, cat=cat_cols)\n",
    "\n",
    "# Categorical variable encoding\n",
    "X_train, X_test = encode_categories(cat_cols, X_train, X_test, method='target')\n",
    "\n",
    "# Remove outliers\n",
    "X_train, X_test = fix_outliers(num_cols, X_train, X_test)\n",
    "\n",
    "# Train & evaluate\n",
    "model = train_test(X_train, X_test, y_train, y_test, algo='svm')"
   ]
  },
  {
   "cell_type": "raw",
   "id": "498634ec",
   "metadata": {},
   "source": [
    "We will follow following Pipeline:\n",
    "•\tsplit\n",
    "•\timpute missing with median\n",
    "•\tTarget enc for categorical columns\n",
    "•\tremove outliers\n",
    "•\tStandardize\n",
    "•\tTrain SVM"
   ]
  },
  {
   "cell_type": "code",
   "execution_count": 245,
   "id": "56d40129",
   "metadata": {},
   "outputs": [
    {
     "name": "stdout",
     "output_type": "stream",
     "text": [
      "Train Accuracy\n",
      "              precision    recall  f1-score   support\n",
      "\n",
      "           0       0.91      0.99      0.95      3746\n",
      "           1       0.89      0.54      0.67       758\n",
      "\n",
      "    accuracy                           0.91      4504\n",
      "   macro avg       0.90      0.76      0.81      4504\n",
      "weighted avg       0.91      0.91      0.90      4504\n",
      "\n",
      "Test Accuracy\n",
      "              precision    recall  f1-score   support\n",
      "\n",
      "           0       0.90      0.99      0.94       936\n",
      "           1       0.87      0.48      0.62       190\n",
      "\n",
      "    accuracy                           0.90      1126\n",
      "   macro avg       0.89      0.73      0.78      1126\n",
      "weighted avg       0.90      0.90      0.89      1126\n",
      "\n"
     ]
    }
   ],
   "source": [
    "# Split\n",
    "X_train, X_test, y_train, y_test = get_train_test()\n",
    "\n",
    "# Missing value imputation\n",
    "X_train, X_test = impute_missing(missing_columns, X_train, X_test, method='median', get_indicator=False, cat=cat_cols)\n",
    "\n",
    "# Categorical variable encoding\n",
    "X_train, X_test = encode_categories(cat_cols, X_train, X_test, method='target')\n",
    "\n",
    "# Remove outliers\n",
    "X_train, X_test = fix_outliers(num_cols, X_train, X_test)\n",
    "\n",
    "# Standardize\n",
    "X_train, X_test = scale(num_cols, X_train, X_test)\n",
    "\n",
    "# Train & evaluate\n",
    "model = train_test(X_train, X_test, y_train, y_test, algo='svm')"
   ]
  },
  {
   "cell_type": "raw",
   "id": "fb5cd173",
   "metadata": {},
   "source": [
    "We will follow following Pipeline:\n",
    "    •\tsplit\n",
    "    •\timpute missing with XGB\n",
    "    •\tTarget enc for categorical columns\n",
    "    •\tremove outliers\n",
    "    •\tStandardize\n",
    "    •\tTrain SVM"
   ]
  },
  {
   "cell_type": "code",
   "execution_count": 246,
   "id": "44dbaccd",
   "metadata": {},
   "outputs": [
    {
     "name": "stdout",
     "output_type": "stream",
     "text": [
      "Train Accuracy\n",
      "              precision    recall  f1-score   support\n",
      "\n",
      "           0       0.92      0.99      0.95      3746\n",
      "           1       0.89      0.56      0.68       758\n",
      "\n",
      "    accuracy                           0.91      4504\n",
      "   macro avg       0.90      0.77      0.82      4504\n",
      "weighted avg       0.91      0.91      0.91      4504\n",
      "\n",
      "Test Accuracy\n",
      "              precision    recall  f1-score   support\n",
      "\n",
      "           0       0.90      0.99      0.94       936\n",
      "           1       0.87      0.48      0.62       190\n",
      "\n",
      "    accuracy                           0.90      1126\n",
      "   macro avg       0.88      0.73      0.78      1126\n",
      "weighted avg       0.90      0.90      0.89      1126\n",
      "\n"
     ]
    }
   ],
   "source": [
    "# Split\n",
    "X_train, X_test, y_train, y_test = get_train_test()\n",
    "\n",
    "# Missing value imputation\n",
    "X_train, X_test = impute_missing(missing_columns, X_train, X_test, method='xgb', get_indicator=False, cat=cat_cols)\n",
    "\n",
    "# Categorical variable encoding\n",
    "X_train, X_test = encode_categories(cat_cols, X_train, X_test, method='target')\n",
    "\n",
    "# Remove outliers\n",
    "X_train, X_test = fix_outliers(num_cols, X_train, X_test)\n",
    "\n",
    "# Standardize\n",
    "X_train, X_test = scale(num_cols, X_train, X_test)\n",
    "\n",
    "# Train & evaluate\n",
    "model = train_test(X_train, X_test, y_train, y_test, algo='svm')"
   ]
  },
  {
   "cell_type": "raw",
   "id": "6f03ea18",
   "metadata": {},
   "source": [
    "We will follow following Pipeline:\n",
    "    •\tsplit\n",
    "    •\timpute missing with RF\n",
    "    •\tTarget enc for categorical columns\n",
    "    •\tremove outliers\n",
    "    •\tStandardize\n",
    "    •\tTrain SVM"
   ]
  },
  {
   "cell_type": "code",
   "execution_count": 247,
   "id": "9195089e",
   "metadata": {},
   "outputs": [
    {
     "name": "stdout",
     "output_type": "stream",
     "text": [
      "Train Accuracy\n",
      "              precision    recall  f1-score   support\n",
      "\n",
      "           0       0.91      0.99      0.95      3746\n",
      "           1       0.89      0.54      0.67       758\n",
      "\n",
      "    accuracy                           0.91      4504\n",
      "   macro avg       0.90      0.76      0.81      4504\n",
      "weighted avg       0.91      0.91      0.90      4504\n",
      "\n",
      "Test Accuracy\n",
      "              precision    recall  f1-score   support\n",
      "\n",
      "           0       0.90      0.98      0.94       936\n",
      "           1       0.85      0.48      0.61       190\n",
      "\n",
      "    accuracy                           0.90      1126\n",
      "   macro avg       0.88      0.73      0.78      1126\n",
      "weighted avg       0.89      0.90      0.89      1126\n",
      "\n"
     ]
    }
   ],
   "source": [
    "# Split\n",
    "X_train, X_test, y_train, y_test = get_train_test()\n",
    "\n",
    "# Missing value imputation\n",
    "X_train, X_test = impute_missing(missing_columns, X_train, X_test, method='rf', get_indicator=False, cat=cat_cols)\n",
    "\n",
    "# Categorical variable encoding\n",
    "X_train, X_test = encode_categories(cat_cols, X_train, X_test, method='target')\n",
    "\n",
    "# Remove outliers\n",
    "X_train, X_test = fix_outliers(num_cols, X_train, X_test)\n",
    "\n",
    "# Standardize\n",
    "X_train, X_test = scale(num_cols, X_train, X_test)\n",
    "\n",
    "# Train & evaluate\n",
    "model = train_test(X_train, X_test, y_train, y_test, algo='svm')"
   ]
  },
  {
   "cell_type": "raw",
   "id": "9cef6fb1",
   "metadata": {},
   "source": [
    "We will follow following Pipeline:\n",
    "•\tsplit\n",
    "•\timpute missing with median\n",
    "•\tOHE for categorical columns\n",
    "•\tremove outliers\n",
    "•\tStandardize\n",
    "•\tTrain SVM"
   ]
  },
  {
   "cell_type": "code",
   "execution_count": 248,
   "id": "5b4193c0",
   "metadata": {},
   "outputs": [
    {
     "name": "stdout",
     "output_type": "stream",
     "text": [
      "Train Accuracy\n",
      "              precision    recall  f1-score   support\n",
      "\n",
      "           0       0.94      0.99      0.96      3746\n",
      "           1       0.93      0.66      0.77       758\n",
      "\n",
      "    accuracy                           0.93      4504\n",
      "   macro avg       0.93      0.83      0.87      4504\n",
      "weighted avg       0.93      0.93      0.93      4504\n",
      "\n",
      "Test Accuracy\n",
      "              precision    recall  f1-score   support\n",
      "\n",
      "           0       0.93      0.98      0.95       936\n",
      "           1       0.88      0.62      0.72       190\n",
      "\n",
      "    accuracy                           0.92      1126\n",
      "   macro avg       0.90      0.80      0.84      1126\n",
      "weighted avg       0.92      0.92      0.92      1126\n",
      "\n"
     ]
    }
   ],
   "source": [
    "# Split\n",
    "X_train, X_test, y_train, y_test = get_train_test()\n",
    "\n",
    "# Missing value imputation\n",
    "X_train, X_test = impute_missing(missing_columns, X_train, X_test, method='median', get_indicator=False, cat=cat_cols)\n",
    "\n",
    "# Categorical variable encoding\n",
    "X_train, X_test = encode_categories(cat_cols, X_train, X_test, method='ohe')\n",
    "\n",
    "# Remove outliers\n",
    "X_train, X_test = fix_outliers(num_cols, X_train, X_test)\n",
    "\n",
    "# Standardize\n",
    "X_train, X_test = scale(num_cols, X_train, X_test)\n",
    "\n",
    "# Train & evaluate\n",
    "model = train_test(X_train, X_test, y_train, y_test, algo='svm')"
   ]
  },
  {
   "cell_type": "raw",
   "id": "6b5d8a34",
   "metadata": {},
   "source": [
    "We will follow following Pipeline:\n",
    "•\tsplit\n",
    "•\timpute missing with median\n",
    "•\tlabel enc for categorical columns\n",
    "•\tremove outliers\n",
    "•\tStandardize\n",
    "•\tTrain SVM\n"
   ]
  },
  {
   "cell_type": "code",
   "execution_count": 249,
   "id": "d677759d",
   "metadata": {},
   "outputs": [
    {
     "name": "stdout",
     "output_type": "stream",
     "text": [
      "Train Accuracy\n",
      "              precision    recall  f1-score   support\n",
      "\n",
      "           0       0.92      0.99      0.95      3746\n",
      "           1       0.89      0.57      0.69       758\n",
      "\n",
      "    accuracy                           0.92      4504\n",
      "   macro avg       0.91      0.78      0.82      4504\n",
      "weighted avg       0.91      0.92      0.91      4504\n",
      "\n",
      "Test Accuracy\n",
      "              precision    recall  f1-score   support\n",
      "\n",
      "           0       0.91      0.99      0.95       936\n",
      "           1       0.87      0.51      0.64       190\n",
      "\n",
      "    accuracy                           0.90      1126\n",
      "   macro avg       0.89      0.75      0.79      1126\n",
      "weighted avg       0.90      0.90      0.89      1126\n",
      "\n"
     ]
    }
   ],
   "source": [
    "# Split\n",
    "X_train, X_test, y_train, y_test = get_train_test()\n",
    "\n",
    "# Missing value imputation\n",
    "X_train, X_test = impute_missing(missing_columns, X_train, X_test, method='median', get_indicator=False, cat=cat_cols)\n",
    "\n",
    "# Categorical variable encoding\n",
    "X_train, X_test = encode_categories(cat_cols, X_train, X_test, method='label')\n",
    "\n",
    "# Remove outliers\n",
    "X_train, X_test = fix_outliers(num_cols, X_train, X_test)\n",
    "\n",
    "# Standardize\n",
    "X_train, X_test = scale(num_cols, X_train, X_test)\n",
    "\n",
    "# Train & evaluate\n",
    "model = train_test(X_train, X_test, y_train, y_test, algo='svm')"
   ]
  },
  {
   "cell_type": "markdown",
   "id": "5821f60c",
   "metadata": {},
   "source": [
    "## Light GBM (LGBM)"
   ]
  },
  {
   "cell_type": "raw",
   "id": "611df98f",
   "metadata": {},
   "source": [
    "We will follow following Pipeline:\n",
    "    •\tsplit\n",
    "    •\timpute missing with median\n",
    "    •\tTarget enc for categorical columns\n",
    "    •\tremove outliers\n",
    "    •\tTrain LGBM"
   ]
  },
  {
   "cell_type": "code",
   "execution_count": 250,
   "id": "c78066bc",
   "metadata": {},
   "outputs": [
    {
     "name": "stdout",
     "output_type": "stream",
     "text": [
      "Train Accuracy\n",
      "              precision    recall  f1-score   support\n",
      "\n",
      "           0       1.00      1.00      1.00      3746\n",
      "           1       1.00      0.98      0.99       758\n",
      "\n",
      "    accuracy                           1.00      4504\n",
      "   macro avg       1.00      0.99      0.99      4504\n",
      "weighted avg       1.00      1.00      1.00      4504\n",
      "\n",
      "Test Accuracy\n",
      "              precision    recall  f1-score   support\n",
      "\n",
      "           0       0.97      0.99      0.98       936\n",
      "           1       0.94      0.86      0.90       190\n",
      "\n",
      "    accuracy                           0.97      1126\n",
      "   macro avg       0.96      0.93      0.94      1126\n",
      "weighted avg       0.97      0.97      0.97      1126\n",
      "\n"
     ]
    }
   ],
   "source": [
    "# Split\n",
    "X_train, X_test, y_train, y_test = get_train_test()\n",
    "\n",
    "# Missing value imputation\n",
    "X_train, X_test = impute_missing(missing_columns, X_train, X_test, method='median', get_indicator=False, cat=cat_cols)\n",
    "\n",
    "# Categorical variable encoding\n",
    "X_train, X_test = encode_categories(cat_cols, X_train, X_test, method='target')\n",
    "\n",
    "# Remove outliers\n",
    "X_train, X_test = fix_outliers(num_cols, X_train, X_test)\n",
    "\n",
    "# Train & evaluate\n",
    "model = train_test(X_train, X_test, y_train, y_test, algo='lgbm')"
   ]
  },
  {
   "cell_type": "code",
   "execution_count": 251,
   "id": "0884bd61",
   "metadata": {},
   "outputs": [
    {
     "data": {
      "image/png": "[encoded data removed]",
      "text/plain": [
       "<Figure size 432x288 with 1 Axes>"
      ]
     },
     "metadata": {
      "needs_background": "light"
     },
     "output_type": "display_data"
    }
   ],
   "source": [
    "importance = get_importance(model, X_train)"
   ]
  },
  {
   "cell_type": "raw",
   "id": "0e25a6a6",
   "metadata": {},
   "source": [
    "We will follow following Pipeline:\n",
    "    •\tsplit\n",
    "    •\timpute missing with median\n",
    "    •\tTarget enc for categorical columns\n",
    "    •\tremove outliers\n",
    "    •\tStandardize\n",
    "    •\tTrain LGBM"
   ]
  },
  {
   "cell_type": "code",
   "execution_count": null,
   "id": "da4c1723",
   "metadata": {},
   "outputs": [],
   "source": [
    "# Split\n",
    "X_train, X_test, y_train, y_test = get_train_test()\n",
    "\n",
    "# Missing value imputation\n",
    "X_train, X_test = impute_missing(missing_columns, X_train, X_test, method='median', get_indicator=False, cat=cat_cols)\n",
    "\n",
    "# Categorical variable encoding\n",
    "X_train, X_test = encode_categories(cat_cols, X_train, X_test, method='target')\n",
    "\n",
    "# Remove outliers\n",
    "X_train, X_test = fix_outliers(num_cols, X_train, X_test)\n",
    "\n",
    "# Standardize\n",
    "X_train, X_test = scale(num_cols, X_train, X_test)\n",
    "\n",
    "# Train & evaluate\n",
    "model = train_test(X_train, X_test, y_train, y_test, algo='lgbm')"
   ]
  },
  {
   "cell_type": "code",
   "execution_count": null,
   "id": "799b34d3",
   "metadata": {},
   "outputs": [],
   "source": [
    "importance = get_importance(model, X_train)"
   ]
  },
  {
   "cell_type": "markdown",
   "id": "a163c530",
   "metadata": {},
   "source": [
    "We will follow following Pipeline:\n",
    "    •\tsplit\n",
    "    •\timpute missing with XGB\n",
    "    •\tTarget enc for categorical columns\n",
    "    •\tremove outliers\n",
    "    •\tStandardize\n",
    "    •\tTrain LGBM"
   ]
  },
  {
   "cell_type": "code",
   "execution_count": null,
   "id": "d9d6a136",
   "metadata": {},
   "outputs": [],
   "source": [
    "# Split\n",
    "X_train, X_test, y_train, y_test = get_train_test()\n",
    "\n",
    "# Missing value imputation\n",
    "X_train, X_test = impute_missing(missing_columns, X_train, X_test, method='xgb', get_indicator=False, cat=cat_cols)\n",
    "\n",
    "# Categorical variable encoding\n",
    "X_train, X_test = encode_categories(cat_cols, X_train, X_test, method='target')\n",
    "\n",
    "# Remove outliers\n",
    ".X_train, X_test = fix_outliers(num_cols, X_train, X_test)\n",
    "\n",
    "# Standardize\n",
    "X_train, X_test = scale(num_cols, X_train, X_test)\n",
    "\n",
    "# Train & evaluate\n",
    "model = train_test(X_train, X_test, y_train, y_test, algo='lgbm')"
   ]
  },
  {
   "cell_type": "code",
   "execution_count": null,
   "id": "fabfbb8e",
   "metadata": {},
   "outputs": [],
   "source": [
    "importance = get_importance(model, X_train)"
   ]
  },
  {
   "cell_type": "markdown",
   "id": "1c2b86b2",
   "metadata": {},
   "source": [
    "We will follow following Pipeline:\n",
    "    •\tsplit\n",
    "    •\timpute missing with RF\n",
    "    •\tTarget enc for categorical columns\n",
    "    •\tremove outliers\n",
    "    •\tStandardize\n",
    "    •\tTrain LGBM"
   ]
  },
  {
   "cell_type": "code",
   "execution_count": null,
   "id": "fed2f124",
   "metadata": {},
   "outputs": [],
   "source": [
    "# Split\n",
    "X_train, X_test, y_train, y_test = get_train_test()\n",
    "\n",
    "# Missing value imputation\n",
    "X_train, X_test = impute_missing(missing_columns, X_train, X_test, method='rf', get_indicator=False, cat=cat_cols)\n",
    "\n",
    "# Categorical variable encoding\n",
    "X_train, X_test = encode_categories(cat_cols, X_train, X_test, method='target')\n",
    "\n",
    "# Remove outliers\n",
    "X_train, X_test = fix_outliers(num_cols, X_train, X_test)\n",
    "\n",
    "# Standardize\n",
    "X_train, X_test = scale(num_cols, X_train, X_test)\n",
    "\n",
    "# Train & evaluate\n",
    "model = train_test(X_train, X_test, y_train, y_test, algo='lgbm')"
   ]
  },
  {
   "cell_type": "raw",
   "id": "6528cd0b",
   "metadata": {},
   "source": [
    "We will follow following Pipeline:\n",
    "    •\tsplit\n",
    "    •\timpute missing with median\n",
    "    •\tOHE for categorical columns\n",
    "    •\tremove outliers\n",
    "    •\tStandardize\n",
    "    •\tTrain LGBM"
   ]
  },
  {
   "cell_type": "code",
   "execution_count": null,
   "id": "ea127390",
   "metadata": {},
   "outputs": [],
   "source": [
    "# Split\n",
    "X_train, X_test, y_train, y_test = get_train_test()\n",
    "\n",
    "# Missing value imputation\n",
    "X_train, X_test = impute_missing(missing_columns, X_train, X_test, method='median', get_indicator=False, cat=cat_cols)\n",
    "\n",
    "# Categorical variable encoding\n",
    "X_train, X_test = encode_categories(cat_cols, X_train, X_test, method='ohe')\n",
    "\n",
    "# Remove outliers\n",
    "X_train, X_test = fix_outliers(num_cols, X_train, X_test)\n",
    "\n",
    "# Standardize\n",
    "X_train, X_test = scale(num_cols, X_train, X_test)\n",
    "\n",
    "# Train & evaluate\n",
    "model = train_test(X_train, X_test, y_train, y_test, algo='lgbm')"
   ]
  },
  {
   "cell_type": "raw",
   "id": "e3e06813",
   "metadata": {},
   "source": [
    "We will follow following Pipeline:\n",
    "    •\tsplit\n",
    "    •\timpute missing with median\n",
    "    •\tlabel encoder for categorical columns\n",
    "    •\ttreating outliers\n",
    "    •\tStandardize\n",
    "    •\tTrain LGBM"
   ]
  },
  {
   "cell_type": "code",
   "execution_count": null,
   "id": "bc93a6cc",
   "metadata": {},
   "outputs": [],
   "source": [
    "# Split\n",
    "X_train, X_test, y_train, y_test = get_train_test()\n",
    "\n",
    "# Missing value imputation\n",
    "X_train, X_test = impute_missing(missing_columns, X_train, X_test, method='median', get_indicator=False, cat=cat_cols)\n",
    "\n",
    "# Categorical variable encoding\n",
    "X_train, X_test = encode_categories(cat_cols, X_train, X_test, method='label')\n",
    "\n",
    "# Remove outliers\n",
    "X_train, X_test = fix_outliers(num_cols, X_train, X_test)\n",
    "\n",
    "# Standardize\n",
    "X_train, X_test = scale(num_cols, X_train, X_test)\n",
    "\n",
    "# Train & evaluate\n",
    "model = train_test(X_train, X_test, y_train, y_test, algo='lgbm')"
   ]
  },
  {
   "cell_type": "code",
   "execution_count": null,
   "id": "1b742fdc",
   "metadata": {},
   "outputs": [],
   "source": [
    "importance = get_importance(model, X_train)"
   ]
  },
  {
   "cell_type": "code",
   "execution_count": null,
   "id": "5695e04c",
   "metadata": {},
   "outputs": [],
   "source": [
    "explain(model, X_test)"
   ]
  },
  {
   "cell_type": "code",
   "execution_count": null,
   "id": "3e5e4645",
   "metadata": {},
   "outputs": [],
   "source": [
    "# Split\n",
    "X_train, X_test, y_train, y_test = get_train_test()\n",
    "\n",
    "# Missing value imputation\n",
    "X_train, X_test = impute_missing(missing_columns, X_train, X_test, method='median', get_indicator=False, cat=cat_cols)\n",
    "\n",
    "# Categorical variable encoding\n",
    "X_train, X_test = encode_categories(cat_cols, X_train, X_test, method='target')\n",
    "\n",
    "# Remove outliers\n",
    "X_train, X_test = fix_outliers(num_cols, X_train, X_test)\n",
    "\n",
    "# Train & evaluate\n",
    "model = train_test(X_train, X_test, y_train, y_test, algo='lgbm')"
   ]
  },
  {
   "cell_type": "code",
   "execution_count": null,
   "id": "66011e10",
   "metadata": {},
   "outputs": [],
   "source": [
    "importance = get_importance(model, X_train)\n",
    "importance = get_importance(model, X_train)"
   ]
  },
  {
   "cell_type": "markdown",
   "id": "d21def49",
   "metadata": {},
   "source": [
    "## Random Forest\n",
    "\n",
    "We will follow following Pipeline:\n",
    "\n",
    "\n",
    "    •\tsplit\n",
    "    •\timpute missing with median\n",
    "    •\tlabel encoder for categorical columns\n",
    "    •\ttreating outliers\n",
    "    •\tStandardize\n",
    "    •\tTrain LGBM"
   ]
  },
  {
   "cell_type": "code",
   "execution_count": null,
   "id": "1b7c1559",
   "metadata": {},
   "outputs": [],
   "source": [
    "# split\n",
    "X_train, X_test, y_train, y_test = get_train_test()\n",
    "\n",
    "# Missing value imputation\n",
    "X_train, X_test = impute_missing(missing_columns, X_train, X_test, method='rf', get_indicator=False, cat=cat_cols)\n",
    "\n",
    "# Categorical variable encoding\n",
    "X_train, X_test = encode_categories(cat_cols, X_train, X_test, method='target')\n",
    "\n",
    "# Train & evaluate\n",
    "model = train_test(X_train, X_test, y_train, y_test, algo='rf')"
   ]
  },
  {
   "cell_type": "code",
   "execution_count": null,
   "id": "a89d36c6",
   "metadata": {},
   "outputs": [],
   "source": []
  },
  {
   "cell_type": "markdown",
   "id": "34fcf9a9",
   "metadata": {},
   "source": [
    "We will follow the following pipeline:\n",
    "\n",
    "    - split\n",
    "    - impute missing values with XGB\n",
    "    - Target encoding for categorical columns\n",
    "    - Train Random Forest"
   ]
  },
  {
   "cell_type": "code",
   "execution_count": null,
   "id": "fa6f5fd9",
   "metadata": {},
   "outputs": [],
   "source": [
    "# Split\n",
    "X_train, X_test, y_train, y_test = get_train_test()\n",
    "\n",
    "# Missing value imputation\n",
    "X_train, X_test = impute_missing(missing_columns, X_train, X_test, method='xgb', get_indicator=False, cat=cat_cols)\n",
    "\n",
    "# Categorical variable encoding\n",
    "X_train, X_test = encode_categories(cat_cols, X_train, X_test, method='target')\n",
    "\n",
    "# Train & evaluate\n",
    "model = train_test(X_train, X_test, y_train, y_test, algo='rf')"
   ]
  },
  {
   "cell_type": "code",
   "execution_count": null,
   "id": "73a63447",
   "metadata": {},
   "outputs": [],
   "source": [
    "importance = get_importance(model, X_train)"
   ]
  },
  {
   "cell_type": "markdown",
   "id": "206421d0",
   "metadata": {},
   "source": [
    "We will follow the following pipeline:\n",
    "\n",
    "- split\n",
    "- impute missing values with median\n",
    "- Target encoding for categorical columns\n",
    "- Discretisation\n",
    "- Target encoding for Discretisation\n",
    "- Train Random Forest with parameters"
   ]
  },
  {
   "cell_type": "code",
   "execution_count": null,
   "id": "75f0d64f",
   "metadata": {},
   "outputs": [],
   "source": [
    "# Split\n",
    "X_train, X_test, y_train, y_test = get_train_test()\n",
    "                                                                                                                                                                                                                                                                                                                 \n",
    "# Missing value imputation\n",
    "X_train, X_test = impute_missing(missing_columns, X_train, X_test, method='median', get_indicator=False, cat=cat_cols)\n",
    "\n",
    "# Categorical variable encoding\n",
    "X_train, X_test = encode_categories(cat_cols, X_train, X_test, method='target')\n",
    "\n",
    "# Discretisation\n",
    "X_train, X_test = discretise(missing_columns, 9, X_train, X_test)\n",
    "\n",
    "# categorical variable encoding\n",
    "X_train, X_test = encode_categories(missing_columns, X_train, X_test, method='Target')\n",
    "# Train & evaluate\n",
    "model = train_test(X_train, X_test, y_train, y_test, algo='rf', params= {'n_estimators':5000, 'max_depth': 10, 'max_features':'sqrt'})"
   ]
  },
  {
   "cell_type": "code",
   "execution_count": null,
   "id": "46797f0f",
   "metadata": {},
   "outputs": [],
   "source": []
  },
  {
   "cell_type": "code",
   "execution_count": null,
   "id": "399baf2f",
   "metadata": {},
   "outputs": [],
   "source": []
  }
 ],
 "metadata": {
  "kernelspec": {
   "display_name": "Python 3 (ipykernel)",
   "language": "python",
   "name": "python3"
  },
  "language_info": {
   "codemirror_mode": {
    "name": "ipython",
    "version": 3
   },
   "file_extension": ".py",
   "mimetype": "text/x-python",
   "name": "python",
   "nbconvert_exporter": "python",
   "pygments_lexer": "ipython3",
   "version": "3.9.7"
  }
 },
 "nbformat": 4,
 "nbformat_minor": 5
}
